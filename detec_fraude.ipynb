{
  "cells": [
    {
      "attachments": {},
      "cell_type": "markdown",
      "metadata": {},
      "source": [
        "# Libraries"
      ]
    },
    {
      "cell_type": "code",
      "execution_count": 2,
      "metadata": {
        "id": "c3Nv_VZKopVC"
      },
      "outputs": [],
      "source": [
        "import pandas as pd\n",
        "import numpy as np\n",
        "import matplotlib.pyplot as plt\n",
        "import ydata_profiling\n",
        "\n",
        "from ipywidgets import widgets\n",
        "from sklearn.model_selection import train_test_split, RandomizedSearchCV\n",
        "from sklearn.linear_model import LogisticRegression\n",
        "from sklearn.tree import DecisionTreeClassifier\n",
        "from sklearn.ensemble import RandomForestClassifier\n",
        "from sklearn import metrics\n",
        "from sklearn.metrics import confusion_matrix, ConfusionMatrixDisplay\n",
        "\n",
        "from imblearn.over_sampling import SMOTE\n",
        "\n",
        "%matplotlib inline"
      ]
    },
    {
      "cell_type": "markdown",
      "metadata": {
        "id": "BrMfniVNy3zD"
      },
      "source": [
        "# Análise com Pandas"
      ]
    },
    {
      "attachments": {},
      "cell_type": "markdown",
      "metadata": {},
      "source": [
        "**Variáveis do dataset**\n",
        "\n",
        "**step** - mapeia uma unidade de tempo no mundo real. Neste caso, 1 passo equivale a 1 hora de tempo. Total de etapas 744 (simulação de 30 dias).\n",
        "\n",
        "**type** - CASH-IN, CASH-OUT, DEBIT, PAYMENT and TRANSFER. (caixa de entrada, caixa de saída, débito, pagamento e transferência).\n",
        "\n",
        "**amount** - valor da transação em moeda local.\n",
        "\n",
        "**nameOrig** - cliente que iniciou a transação.\n",
        "\n",
        "**oldbalanceOrg** - saldo inicial antes da transação.\n",
        "\n",
        "**newbalanceOrig** - novo saldo após a transação.\n",
        "\n",
        "**nameDest** - cliente que é o destinatário da transação.\n",
        "\n",
        "**oldbalanceDest** - destinatário do saldo inicial antes da transação. Obsevamos que não há informações para clientes que começam com M (comerciantes).\n",
        "\n",
        "**newbalanceDest** - novo destinatário do saldo após a transação. Obsevamos que não há informações para clientes que começam com M (comerciantes).\n",
        "\n",
        "**isFraud** - são as transações feitas pelos agentes fraudulentos dentro da simulação. Neste conjunto de dados específico, o comportamento fraudulento dos agentes visa lucrar ao assumir o controle das contas dos clientes e tentar esvaziar os fundos transferindo para outra conta e depois sacando do sistema.\n",
        "\n",
        "**isFlaggedFraud** - o modelo de negócios visa controlar transferências massivas de uma conta para outra e sinaliza tentativas ilegais. Uma tentativa ilegal neste conjunto de dados é uma tentativa de transferir mais de 200.000 em uma única transação."
      ]
    },
    {
      "cell_type": "code",
      "execution_count": 3,
      "metadata": {
        "colab": {
          "base_uri": "https://localhost:8080/",
          "height": 424
        },
        "id": "R_TWIu7quIOM",
        "outputId": "9b68fb11-b1fd-4ea1-c140-d4fe6d45c154"
      },
      "outputs": [
        {
          "data": {
            "text/html": [
              "<div>\n",
              "<style scoped>\n",
              "    .dataframe tbody tr th:only-of-type {\n",
              "        vertical-align: middle;\n",
              "    }\n",
              "\n",
              "    .dataframe tbody tr th {\n",
              "        vertical-align: top;\n",
              "    }\n",
              "\n",
              "    .dataframe thead th {\n",
              "        text-align: right;\n",
              "    }\n",
              "</style>\n",
              "<table border=\"1\" class=\"dataframe\">\n",
              "  <thead>\n",
              "    <tr style=\"text-align: right;\">\n",
              "      <th></th>\n",
              "      <th>step</th>\n",
              "      <th>type</th>\n",
              "      <th>amount</th>\n",
              "      <th>nameOrig</th>\n",
              "      <th>oldbalanceOrg</th>\n",
              "      <th>newbalanceOrig</th>\n",
              "      <th>nameDest</th>\n",
              "      <th>oldbalanceDest</th>\n",
              "      <th>newbalanceDest</th>\n",
              "      <th>isFraud</th>\n",
              "      <th>isFlaggedFraud</th>\n",
              "    </tr>\n",
              "  </thead>\n",
              "  <tbody>\n",
              "    <tr>\n",
              "      <th>0</th>\n",
              "      <td>1</td>\n",
              "      <td>PAYMENT</td>\n",
              "      <td>9839.64</td>\n",
              "      <td>C1231006815</td>\n",
              "      <td>170136.00</td>\n",
              "      <td>160296.36</td>\n",
              "      <td>M1979787155</td>\n",
              "      <td>0.00</td>\n",
              "      <td>0.00</td>\n",
              "      <td>0</td>\n",
              "      <td>0</td>\n",
              "    </tr>\n",
              "    <tr>\n",
              "      <th>1</th>\n",
              "      <td>1</td>\n",
              "      <td>PAYMENT</td>\n",
              "      <td>1864.28</td>\n",
              "      <td>C1666544295</td>\n",
              "      <td>21249.00</td>\n",
              "      <td>19384.72</td>\n",
              "      <td>M2044282225</td>\n",
              "      <td>0.00</td>\n",
              "      <td>0.00</td>\n",
              "      <td>0</td>\n",
              "      <td>0</td>\n",
              "    </tr>\n",
              "    <tr>\n",
              "      <th>2</th>\n",
              "      <td>1</td>\n",
              "      <td>TRANSFER</td>\n",
              "      <td>181.00</td>\n",
              "      <td>C1305486145</td>\n",
              "      <td>181.00</td>\n",
              "      <td>0.00</td>\n",
              "      <td>C553264065</td>\n",
              "      <td>0.00</td>\n",
              "      <td>0.00</td>\n",
              "      <td>1</td>\n",
              "      <td>0</td>\n",
              "    </tr>\n",
              "    <tr>\n",
              "      <th>3</th>\n",
              "      <td>1</td>\n",
              "      <td>CASH_OUT</td>\n",
              "      <td>181.00</td>\n",
              "      <td>C840083671</td>\n",
              "      <td>181.00</td>\n",
              "      <td>0.00</td>\n",
              "      <td>C38997010</td>\n",
              "      <td>21182.00</td>\n",
              "      <td>0.00</td>\n",
              "      <td>1</td>\n",
              "      <td>0</td>\n",
              "    </tr>\n",
              "    <tr>\n",
              "      <th>4</th>\n",
              "      <td>1</td>\n",
              "      <td>PAYMENT</td>\n",
              "      <td>11668.14</td>\n",
              "      <td>C2048537720</td>\n",
              "      <td>41554.00</td>\n",
              "      <td>29885.86</td>\n",
              "      <td>M1230701703</td>\n",
              "      <td>0.00</td>\n",
              "      <td>0.00</td>\n",
              "      <td>0</td>\n",
              "      <td>0</td>\n",
              "    </tr>\n",
              "    <tr>\n",
              "      <th>...</th>\n",
              "      <td>...</td>\n",
              "      <td>...</td>\n",
              "      <td>...</td>\n",
              "      <td>...</td>\n",
              "      <td>...</td>\n",
              "      <td>...</td>\n",
              "      <td>...</td>\n",
              "      <td>...</td>\n",
              "      <td>...</td>\n",
              "      <td>...</td>\n",
              "      <td>...</td>\n",
              "    </tr>\n",
              "    <tr>\n",
              "      <th>101608</th>\n",
              "      <td>10</td>\n",
              "      <td>PAYMENT</td>\n",
              "      <td>7477.02</td>\n",
              "      <td>C513257306</td>\n",
              "      <td>785.00</td>\n",
              "      <td>0.00</td>\n",
              "      <td>M524833426</td>\n",
              "      <td>0.00</td>\n",
              "      <td>0.00</td>\n",
              "      <td>0</td>\n",
              "      <td>0</td>\n",
              "    </tr>\n",
              "    <tr>\n",
              "      <th>101609</th>\n",
              "      <td>10</td>\n",
              "      <td>CASH_OUT</td>\n",
              "      <td>282252.35</td>\n",
              "      <td>C210473293</td>\n",
              "      <td>220339.29</td>\n",
              "      <td>0.00</td>\n",
              "      <td>C1172042998</td>\n",
              "      <td>95156.01</td>\n",
              "      <td>91286.97</td>\n",
              "      <td>0</td>\n",
              "      <td>0</td>\n",
              "    </tr>\n",
              "    <tr>\n",
              "      <th>101610</th>\n",
              "      <td>10</td>\n",
              "      <td>PAYMENT</td>\n",
              "      <td>17289.01</td>\n",
              "      <td>C807582280</td>\n",
              "      <td>0.00</td>\n",
              "      <td>0.00</td>\n",
              "      <td>M334249577</td>\n",
              "      <td>0.00</td>\n",
              "      <td>0.00</td>\n",
              "      <td>0</td>\n",
              "      <td>0</td>\n",
              "    </tr>\n",
              "    <tr>\n",
              "      <th>101611</th>\n",
              "      <td>10</td>\n",
              "      <td>TRANSFER</td>\n",
              "      <td>1347146.45</td>\n",
              "      <td>C1315779140</td>\n",
              "      <td>1605.00</td>\n",
              "      <td>0.00</td>\n",
              "      <td>C1631408038</td>\n",
              "      <td>541639.43</td>\n",
              "      <td>2186953.43</td>\n",
              "      <td>0</td>\n",
              "      <td>0</td>\n",
              "    </tr>\n",
              "    <tr>\n",
              "      <th>101612</th>\n",
              "      <td>10</td>\n",
              "      <td>CASH_OUT</td>\n",
              "      <td>469539.21</td>\n",
              "      <td>C515691325</td>\n",
              "      <td>31133.00</td>\n",
              "      <td>0.00</td>\n",
              "      <td>C1383702768</td>\n",
              "      <td>0.00</td>\n",
              "      <td>469539.21</td>\n",
              "      <td>0</td>\n",
              "      <td>0</td>\n",
              "    </tr>\n",
              "  </tbody>\n",
              "</table>\n",
              "<p>101613 rows × 11 columns</p>\n",
              "</div>"
            ],
            "text/plain": [
              "        step      type      amount     nameOrig  oldbalanceOrg  \\\n",
              "0          1   PAYMENT     9839.64  C1231006815      170136.00   \n",
              "1          1   PAYMENT     1864.28  C1666544295       21249.00   \n",
              "2          1  TRANSFER      181.00  C1305486145         181.00   \n",
              "3          1  CASH_OUT      181.00   C840083671         181.00   \n",
              "4          1   PAYMENT    11668.14  C2048537720       41554.00   \n",
              "...      ...       ...         ...          ...            ...   \n",
              "101608    10   PAYMENT     7477.02   C513257306         785.00   \n",
              "101609    10  CASH_OUT   282252.35   C210473293      220339.29   \n",
              "101610    10   PAYMENT    17289.01   C807582280           0.00   \n",
              "101611    10  TRANSFER  1347146.45  C1315779140        1605.00   \n",
              "101612    10  CASH_OUT   469539.21   C515691325       31133.00   \n",
              "\n",
              "        newbalanceOrig     nameDest  oldbalanceDest  newbalanceDest  isFraud  \\\n",
              "0            160296.36  M1979787155            0.00            0.00        0   \n",
              "1             19384.72  M2044282225            0.00            0.00        0   \n",
              "2                 0.00   C553264065            0.00            0.00        1   \n",
              "3                 0.00    C38997010        21182.00            0.00        1   \n",
              "4             29885.86  M1230701703            0.00            0.00        0   \n",
              "...                ...          ...             ...             ...      ...   \n",
              "101608            0.00   M524833426            0.00            0.00        0   \n",
              "101609            0.00  C1172042998        95156.01        91286.97        0   \n",
              "101610            0.00   M334249577            0.00            0.00        0   \n",
              "101611            0.00  C1631408038       541639.43      2186953.43        0   \n",
              "101612            0.00  C1383702768            0.00       469539.21        0   \n",
              "\n",
              "        isFlaggedFraud  \n",
              "0                    0  \n",
              "1                    0  \n",
              "2                    0  \n",
              "3                    0  \n",
              "4                    0  \n",
              "...                ...  \n",
              "101608               0  \n",
              "101609               0  \n",
              "101610               0  \n",
              "101611               0  \n",
              "101612               0  \n",
              "\n",
              "[101613 rows x 11 columns]"
            ]
          },
          "execution_count": 3,
          "metadata": {},
          "output_type": "execute_result"
        }
      ],
      "source": [
        "df = pd.read_csv(\"data\\fraud_dataset_example.csv\")\n",
        "df"
      ]
    },
    {
      "cell_type": "code",
      "execution_count": 4,
      "metadata": {
        "colab": {
          "base_uri": "https://localhost:8080/"
        },
        "id": "I2HlwCuYufDY",
        "outputId": "31714264-4e63-4e86-e929-f21b5910d532"
      },
      "outputs": [
        {
          "data": {
            "text/plain": [
              "Index(['step', 'type', 'amount', 'nameOrig', 'oldbalanceOrg', 'newbalanceOrig',\n",
              "       'nameDest', 'oldbalanceDest', 'newbalanceDest', 'isFraud',\n",
              "       'isFlaggedFraud'],\n",
              "      dtype='object')"
            ]
          },
          "execution_count": 4,
          "metadata": {},
          "output_type": "execute_result"
        }
      ],
      "source": [
        "df.columns"
      ]
    },
    {
      "cell_type": "markdown",
      "metadata": {
        "id": "9zHyR4HFy18E"
      },
      "source": [
        "# Trazendo as colunas de fraude para o começo do dataset"
      ]
    },
    {
      "cell_type": "code",
      "execution_count": 6,
      "metadata": {
        "colab": {
          "base_uri": "https://localhost:8080/",
          "height": 206
        },
        "id": "qV04-_KKufBp",
        "outputId": "23a35d7d-9142-41c5-d9aa-0948db3d1763"
      },
      "outputs": [
        {
          "data": {
            "text/html": [
              "<div>\n",
              "<style scoped>\n",
              "    .dataframe tbody tr th:only-of-type {\n",
              "        vertical-align: middle;\n",
              "    }\n",
              "\n",
              "    .dataframe tbody tr th {\n",
              "        vertical-align: top;\n",
              "    }\n",
              "\n",
              "    .dataframe thead th {\n",
              "        text-align: right;\n",
              "    }\n",
              "</style>\n",
              "<table border=\"1\" class=\"dataframe\">\n",
              "  <thead>\n",
              "    <tr style=\"text-align: right;\">\n",
              "      <th></th>\n",
              "      <th>isFraud</th>\n",
              "      <th>isFlaggedFraud</th>\n",
              "      <th>step</th>\n",
              "      <th>type</th>\n",
              "      <th>amount</th>\n",
              "      <th>nameOrig</th>\n",
              "      <th>oldbalanceOrg</th>\n",
              "      <th>newbalanceOrig</th>\n",
              "      <th>nameDest</th>\n",
              "      <th>oldbalanceDest</th>\n",
              "      <th>newbalanceDest</th>\n",
              "    </tr>\n",
              "  </thead>\n",
              "  <tbody>\n",
              "    <tr>\n",
              "      <th>0</th>\n",
              "      <td>0</td>\n",
              "      <td>0</td>\n",
              "      <td>1</td>\n",
              "      <td>PAYMENT</td>\n",
              "      <td>9839.64</td>\n",
              "      <td>C1231006815</td>\n",
              "      <td>170136.0</td>\n",
              "      <td>160296.36</td>\n",
              "      <td>M1979787155</td>\n",
              "      <td>0.0</td>\n",
              "      <td>0.0</td>\n",
              "    </tr>\n",
              "    <tr>\n",
              "      <th>1</th>\n",
              "      <td>0</td>\n",
              "      <td>0</td>\n",
              "      <td>1</td>\n",
              "      <td>PAYMENT</td>\n",
              "      <td>1864.28</td>\n",
              "      <td>C1666544295</td>\n",
              "      <td>21249.0</td>\n",
              "      <td>19384.72</td>\n",
              "      <td>M2044282225</td>\n",
              "      <td>0.0</td>\n",
              "      <td>0.0</td>\n",
              "    </tr>\n",
              "    <tr>\n",
              "      <th>2</th>\n",
              "      <td>1</td>\n",
              "      <td>0</td>\n",
              "      <td>1</td>\n",
              "      <td>TRANSFER</td>\n",
              "      <td>181.00</td>\n",
              "      <td>C1305486145</td>\n",
              "      <td>181.0</td>\n",
              "      <td>0.00</td>\n",
              "      <td>C553264065</td>\n",
              "      <td>0.0</td>\n",
              "      <td>0.0</td>\n",
              "    </tr>\n",
              "    <tr>\n",
              "      <th>3</th>\n",
              "      <td>1</td>\n",
              "      <td>0</td>\n",
              "      <td>1</td>\n",
              "      <td>CASH_OUT</td>\n",
              "      <td>181.00</td>\n",
              "      <td>C840083671</td>\n",
              "      <td>181.0</td>\n",
              "      <td>0.00</td>\n",
              "      <td>C38997010</td>\n",
              "      <td>21182.0</td>\n",
              "      <td>0.0</td>\n",
              "    </tr>\n",
              "    <tr>\n",
              "      <th>4</th>\n",
              "      <td>0</td>\n",
              "      <td>0</td>\n",
              "      <td>1</td>\n",
              "      <td>PAYMENT</td>\n",
              "      <td>11668.14</td>\n",
              "      <td>C2048537720</td>\n",
              "      <td>41554.0</td>\n",
              "      <td>29885.86</td>\n",
              "      <td>M1230701703</td>\n",
              "      <td>0.0</td>\n",
              "      <td>0.0</td>\n",
              "    </tr>\n",
              "  </tbody>\n",
              "</table>\n",
              "</div>"
            ],
            "text/plain": [
              "   isFraud  isFlaggedFraud  step      type    amount     nameOrig  \\\n",
              "0        0               0     1   PAYMENT   9839.64  C1231006815   \n",
              "1        0               0     1   PAYMENT   1864.28  C1666544295   \n",
              "2        1               0     1  TRANSFER    181.00  C1305486145   \n",
              "3        1               0     1  CASH_OUT    181.00   C840083671   \n",
              "4        0               0     1   PAYMENT  11668.14  C2048537720   \n",
              "\n",
              "   oldbalanceOrg  newbalanceOrig     nameDest  oldbalanceDest  newbalanceDest  \n",
              "0       170136.0       160296.36  M1979787155             0.0             0.0  \n",
              "1        21249.0        19384.72  M2044282225             0.0             0.0  \n",
              "2          181.0            0.00   C553264065             0.0             0.0  \n",
              "3          181.0            0.00    C38997010         21182.0             0.0  \n",
              "4        41554.0        29885.86  M1230701703             0.0             0.0  "
            ]
          },
          "execution_count": 6,
          "metadata": {},
          "output_type": "execute_result"
        }
      ],
      "source": [
        "df = df[['isFraud', 'isFlaggedFraud', 'step', 'type', 'amount', 'nameOrig', 'oldbalanceOrg', 'newbalanceOrig', 'nameDest', 'oldbalanceDest', 'newbalanceDest']]\n",
        "df.head()"
      ]
    },
    {
      "cell_type": "markdown",
      "metadata": {
        "id": "aiCj_l3zz14A"
      },
      "source": [
        "# Renomeando as colunas"
      ]
    },
    {
      "cell_type": "code",
      "execution_count": 7,
      "metadata": {
        "id": "0M7AdaQHzyfu"
      },
      "outputs": [],
      "source": [
        "colunas = {\n",
        "    'isFraud': 'fraude',\n",
        "    'isFlaggedFraud':'super_fraude',\n",
        "    'step':'tempo',\n",
        "    'type':'tipo',\n",
        "    'amount':'valor',\n",
        "    'nameOrig':'cliente1',\n",
        "    'oldbalanceOrg':'saldo_inicial_c1',\n",
        "    'newbalanceOrig':'novo_saldo_c1',\n",
        "    'nameDest':'cliente2',\n",
        "    'oldbalanceDest':'saldo_inicial_c2',\n",
        "    'newbalanceDest':'novo_saldo_c2',\n",
        "}"
      ]
    },
    {
      "cell_type": "code",
      "execution_count": 8,
      "metadata": {
        "colab": {
          "base_uri": "https://localhost:8080/",
          "height": 206
        },
        "id": "UBeDXYWjzydc",
        "outputId": "8c0404c5-8b8f-4809-f7b4-31c2b78ab61a"
      },
      "outputs": [
        {
          "data": {
            "text/html": [
              "<div>\n",
              "<style scoped>\n",
              "    .dataframe tbody tr th:only-of-type {\n",
              "        vertical-align: middle;\n",
              "    }\n",
              "\n",
              "    .dataframe tbody tr th {\n",
              "        vertical-align: top;\n",
              "    }\n",
              "\n",
              "    .dataframe thead th {\n",
              "        text-align: right;\n",
              "    }\n",
              "</style>\n",
              "<table border=\"1\" class=\"dataframe\">\n",
              "  <thead>\n",
              "    <tr style=\"text-align: right;\">\n",
              "      <th></th>\n",
              "      <th>fraude</th>\n",
              "      <th>super_fraude</th>\n",
              "      <th>tempo</th>\n",
              "      <th>tipo</th>\n",
              "      <th>valor</th>\n",
              "      <th>cliente1</th>\n",
              "      <th>saldo_inicial_c1</th>\n",
              "      <th>novo_saldo_c1</th>\n",
              "      <th>cliente2</th>\n",
              "      <th>saldo_inicial_c2</th>\n",
              "      <th>novo_saldo_c2</th>\n",
              "    </tr>\n",
              "  </thead>\n",
              "  <tbody>\n",
              "    <tr>\n",
              "      <th>0</th>\n",
              "      <td>0</td>\n",
              "      <td>0</td>\n",
              "      <td>1</td>\n",
              "      <td>PAYMENT</td>\n",
              "      <td>9839.64</td>\n",
              "      <td>C1231006815</td>\n",
              "      <td>170136.0</td>\n",
              "      <td>160296.36</td>\n",
              "      <td>M1979787155</td>\n",
              "      <td>0.0</td>\n",
              "      <td>0.0</td>\n",
              "    </tr>\n",
              "    <tr>\n",
              "      <th>1</th>\n",
              "      <td>0</td>\n",
              "      <td>0</td>\n",
              "      <td>1</td>\n",
              "      <td>PAYMENT</td>\n",
              "      <td>1864.28</td>\n",
              "      <td>C1666544295</td>\n",
              "      <td>21249.0</td>\n",
              "      <td>19384.72</td>\n",
              "      <td>M2044282225</td>\n",
              "      <td>0.0</td>\n",
              "      <td>0.0</td>\n",
              "    </tr>\n",
              "    <tr>\n",
              "      <th>2</th>\n",
              "      <td>1</td>\n",
              "      <td>0</td>\n",
              "      <td>1</td>\n",
              "      <td>TRANSFER</td>\n",
              "      <td>181.00</td>\n",
              "      <td>C1305486145</td>\n",
              "      <td>181.0</td>\n",
              "      <td>0.00</td>\n",
              "      <td>C553264065</td>\n",
              "      <td>0.0</td>\n",
              "      <td>0.0</td>\n",
              "    </tr>\n",
              "    <tr>\n",
              "      <th>3</th>\n",
              "      <td>1</td>\n",
              "      <td>0</td>\n",
              "      <td>1</td>\n",
              "      <td>CASH_OUT</td>\n",
              "      <td>181.00</td>\n",
              "      <td>C840083671</td>\n",
              "      <td>181.0</td>\n",
              "      <td>0.00</td>\n",
              "      <td>C38997010</td>\n",
              "      <td>21182.0</td>\n",
              "      <td>0.0</td>\n",
              "    </tr>\n",
              "    <tr>\n",
              "      <th>4</th>\n",
              "      <td>0</td>\n",
              "      <td>0</td>\n",
              "      <td>1</td>\n",
              "      <td>PAYMENT</td>\n",
              "      <td>11668.14</td>\n",
              "      <td>C2048537720</td>\n",
              "      <td>41554.0</td>\n",
              "      <td>29885.86</td>\n",
              "      <td>M1230701703</td>\n",
              "      <td>0.0</td>\n",
              "      <td>0.0</td>\n",
              "    </tr>\n",
              "  </tbody>\n",
              "</table>\n",
              "</div>"
            ],
            "text/plain": [
              "   fraude  super_fraude  tempo      tipo     valor     cliente1  \\\n",
              "0       0             0      1   PAYMENT   9839.64  C1231006815   \n",
              "1       0             0      1   PAYMENT   1864.28  C1666544295   \n",
              "2       1             0      1  TRANSFER    181.00  C1305486145   \n",
              "3       1             0      1  CASH_OUT    181.00   C840083671   \n",
              "4       0             0      1   PAYMENT  11668.14  C2048537720   \n",
              "\n",
              "   saldo_inicial_c1  novo_saldo_c1     cliente2  saldo_inicial_c2  \\\n",
              "0          170136.0      160296.36  M1979787155               0.0   \n",
              "1           21249.0       19384.72  M2044282225               0.0   \n",
              "2             181.0           0.00   C553264065               0.0   \n",
              "3             181.0           0.00    C38997010           21182.0   \n",
              "4           41554.0       29885.86  M1230701703               0.0   \n",
              "\n",
              "   novo_saldo_c2  \n",
              "0            0.0  \n",
              "1            0.0  \n",
              "2            0.0  \n",
              "3            0.0  \n",
              "4            0.0  "
            ]
          },
          "execution_count": 8,
          "metadata": {},
          "output_type": "execute_result"
        }
      ],
      "source": [
        "df = df.rename(columns=colunas)\n",
        "df.head()"
      ]
    },
    {
      "cell_type": "markdown",
      "metadata": {
        "id": "TNCotcw90uK0"
      },
      "source": [
        "# Outras informações do dataset"
      ]
    },
    {
      "cell_type": "code",
      "execution_count": 9,
      "metadata": {
        "colab": {
          "base_uri": "https://localhost:8080/",
          "height": 300
        },
        "id": "WOkHNkoNzyYy",
        "outputId": "a17660d7-35e7-4cac-fb1f-b87392a28764"
      },
      "outputs": [
        {
          "data": {
            "text/html": [
              "<div>\n",
              "<style scoped>\n",
              "    .dataframe tbody tr th:only-of-type {\n",
              "        vertical-align: middle;\n",
              "    }\n",
              "\n",
              "    .dataframe tbody tr th {\n",
              "        vertical-align: top;\n",
              "    }\n",
              "\n",
              "    .dataframe thead th {\n",
              "        text-align: right;\n",
              "    }\n",
              "</style>\n",
              "<table border=\"1\" class=\"dataframe\">\n",
              "  <thead>\n",
              "    <tr style=\"text-align: right;\">\n",
              "      <th></th>\n",
              "      <th>fraude</th>\n",
              "      <th>super_fraude</th>\n",
              "      <th>tempo</th>\n",
              "      <th>valor</th>\n",
              "      <th>saldo_inicial_c1</th>\n",
              "      <th>novo_saldo_c1</th>\n",
              "      <th>saldo_inicial_c2</th>\n",
              "      <th>novo_saldo_c2</th>\n",
              "    </tr>\n",
              "  </thead>\n",
              "  <tbody>\n",
              "    <tr>\n",
              "      <th>count</th>\n",
              "      <td>101613.000000</td>\n",
              "      <td>101613.0</td>\n",
              "      <td>101613.000000</td>\n",
              "      <td>1.016130e+05</td>\n",
              "      <td>1.016130e+05</td>\n",
              "      <td>1.016130e+05</td>\n",
              "      <td>1.016130e+05</td>\n",
              "      <td>1.016130e+05</td>\n",
              "    </tr>\n",
              "    <tr>\n",
              "      <th>mean</th>\n",
              "      <td>0.001142</td>\n",
              "      <td>0.0</td>\n",
              "      <td>8.523457</td>\n",
              "      <td>1.740901e+05</td>\n",
              "      <td>9.071753e+05</td>\n",
              "      <td>9.234992e+05</td>\n",
              "      <td>8.810428e+05</td>\n",
              "      <td>1.183998e+06</td>\n",
              "    </tr>\n",
              "    <tr>\n",
              "      <th>std</th>\n",
              "      <td>0.033768</td>\n",
              "      <td>0.0</td>\n",
              "      <td>1.820681</td>\n",
              "      <td>3.450199e+05</td>\n",
              "      <td>2.829575e+06</td>\n",
              "      <td>2.867319e+06</td>\n",
              "      <td>2.399949e+06</td>\n",
              "      <td>2.797761e+06</td>\n",
              "    </tr>\n",
              "    <tr>\n",
              "      <th>min</th>\n",
              "      <td>0.000000</td>\n",
              "      <td>0.0</td>\n",
              "      <td>1.000000</td>\n",
              "      <td>3.200000e-01</td>\n",
              "      <td>0.000000e+00</td>\n",
              "      <td>0.000000e+00</td>\n",
              "      <td>0.000000e+00</td>\n",
              "      <td>0.000000e+00</td>\n",
              "    </tr>\n",
              "    <tr>\n",
              "      <th>25%</th>\n",
              "      <td>0.000000</td>\n",
              "      <td>0.0</td>\n",
              "      <td>8.000000</td>\n",
              "      <td>1.001659e+04</td>\n",
              "      <td>0.000000e+00</td>\n",
              "      <td>0.000000e+00</td>\n",
              "      <td>0.000000e+00</td>\n",
              "      <td>0.000000e+00</td>\n",
              "    </tr>\n",
              "    <tr>\n",
              "      <th>50%</th>\n",
              "      <td>0.000000</td>\n",
              "      <td>0.0</td>\n",
              "      <td>9.000000</td>\n",
              "      <td>5.338541e+04</td>\n",
              "      <td>2.019047e+04</td>\n",
              "      <td>0.000000e+00</td>\n",
              "      <td>2.105800e+04</td>\n",
              "      <td>5.178343e+04</td>\n",
              "    </tr>\n",
              "    <tr>\n",
              "      <th>75%</th>\n",
              "      <td>0.000000</td>\n",
              "      <td>0.0</td>\n",
              "      <td>10.000000</td>\n",
              "      <td>2.124984e+05</td>\n",
              "      <td>1.947150e+05</td>\n",
              "      <td>2.192178e+05</td>\n",
              "      <td>5.919217e+05</td>\n",
              "      <td>1.063122e+06</td>\n",
              "    </tr>\n",
              "    <tr>\n",
              "      <th>max</th>\n",
              "      <td>1.000000</td>\n",
              "      <td>0.0</td>\n",
              "      <td>10.000000</td>\n",
              "      <td>1.000000e+07</td>\n",
              "      <td>3.893942e+07</td>\n",
              "      <td>3.894623e+07</td>\n",
              "      <td>3.400874e+07</td>\n",
              "      <td>3.894623e+07</td>\n",
              "    </tr>\n",
              "  </tbody>\n",
              "</table>\n",
              "</div>"
            ],
            "text/plain": [
              "              fraude  super_fraude          tempo         valor  \\\n",
              "count  101613.000000      101613.0  101613.000000  1.016130e+05   \n",
              "mean        0.001142           0.0       8.523457  1.740901e+05   \n",
              "std         0.033768           0.0       1.820681  3.450199e+05   \n",
              "min         0.000000           0.0       1.000000  3.200000e-01   \n",
              "25%         0.000000           0.0       8.000000  1.001659e+04   \n",
              "50%         0.000000           0.0       9.000000  5.338541e+04   \n",
              "75%         0.000000           0.0      10.000000  2.124984e+05   \n",
              "max         1.000000           0.0      10.000000  1.000000e+07   \n",
              "\n",
              "       saldo_inicial_c1  novo_saldo_c1  saldo_inicial_c2  novo_saldo_c2  \n",
              "count      1.016130e+05   1.016130e+05      1.016130e+05   1.016130e+05  \n",
              "mean       9.071753e+05   9.234992e+05      8.810428e+05   1.183998e+06  \n",
              "std        2.829575e+06   2.867319e+06      2.399949e+06   2.797761e+06  \n",
              "min        0.000000e+00   0.000000e+00      0.000000e+00   0.000000e+00  \n",
              "25%        0.000000e+00   0.000000e+00      0.000000e+00   0.000000e+00  \n",
              "50%        2.019047e+04   0.000000e+00      2.105800e+04   5.178343e+04  \n",
              "75%        1.947150e+05   2.192178e+05      5.919217e+05   1.063122e+06  \n",
              "max        3.893942e+07   3.894623e+07      3.400874e+07   3.894623e+07  "
            ]
          },
          "execution_count": 9,
          "metadata": {},
          "output_type": "execute_result"
        }
      ],
      "source": [
        "df.describe()"
      ]
    },
    {
      "cell_type": "code",
      "execution_count": 10,
      "metadata": {
        "colab": {
          "base_uri": "https://localhost:8080/",
          "height": 300
        },
        "id": "p7Csdqzf0yjc",
        "outputId": "1331bd27-9412-4f98-9657-8d63155fd212"
      },
      "outputs": [
        {
          "data": {
            "text/html": [
              "<div>\n",
              "<style scoped>\n",
              "    .dataframe tbody tr th:only-of-type {\n",
              "        vertical-align: middle;\n",
              "    }\n",
              "\n",
              "    .dataframe tbody tr th {\n",
              "        vertical-align: top;\n",
              "    }\n",
              "\n",
              "    .dataframe thead th {\n",
              "        text-align: right;\n",
              "    }\n",
              "</style>\n",
              "<table border=\"1\" class=\"dataframe\">\n",
              "  <thead>\n",
              "    <tr style=\"text-align: right;\">\n",
              "      <th></th>\n",
              "      <th>count</th>\n",
              "      <th>mean</th>\n",
              "      <th>std</th>\n",
              "      <th>min</th>\n",
              "      <th>25%</th>\n",
              "      <th>50%</th>\n",
              "      <th>75%</th>\n",
              "      <th>max</th>\n",
              "    </tr>\n",
              "  </thead>\n",
              "  <tbody>\n",
              "    <tr>\n",
              "      <th>fraude</th>\n",
              "      <td>101613.0</td>\n",
              "      <td>1.141586e-03</td>\n",
              "      <td>3.376824e-02</td>\n",
              "      <td>0.00</td>\n",
              "      <td>0.00</td>\n",
              "      <td>0.00</td>\n",
              "      <td>0.00</td>\n",
              "      <td>1.00</td>\n",
              "    </tr>\n",
              "    <tr>\n",
              "      <th>super_fraude</th>\n",
              "      <td>101613.0</td>\n",
              "      <td>0.000000e+00</td>\n",
              "      <td>0.000000e+00</td>\n",
              "      <td>0.00</td>\n",
              "      <td>0.00</td>\n",
              "      <td>0.00</td>\n",
              "      <td>0.00</td>\n",
              "      <td>0.00</td>\n",
              "    </tr>\n",
              "    <tr>\n",
              "      <th>tempo</th>\n",
              "      <td>101613.0</td>\n",
              "      <td>8.523457e+00</td>\n",
              "      <td>1.820681e+00</td>\n",
              "      <td>1.00</td>\n",
              "      <td>8.00</td>\n",
              "      <td>9.00</td>\n",
              "      <td>10.00</td>\n",
              "      <td>10.00</td>\n",
              "    </tr>\n",
              "    <tr>\n",
              "      <th>valor</th>\n",
              "      <td>101613.0</td>\n",
              "      <td>1.740901e+05</td>\n",
              "      <td>3.450199e+05</td>\n",
              "      <td>0.32</td>\n",
              "      <td>10016.59</td>\n",
              "      <td>53385.41</td>\n",
              "      <td>212498.40</td>\n",
              "      <td>10000000.00</td>\n",
              "    </tr>\n",
              "    <tr>\n",
              "      <th>saldo_inicial_c1</th>\n",
              "      <td>101613.0</td>\n",
              "      <td>9.071753e+05</td>\n",
              "      <td>2.829575e+06</td>\n",
              "      <td>0.00</td>\n",
              "      <td>0.00</td>\n",
              "      <td>20190.47</td>\n",
              "      <td>194715.00</td>\n",
              "      <td>38939424.03</td>\n",
              "    </tr>\n",
              "    <tr>\n",
              "      <th>novo_saldo_c1</th>\n",
              "      <td>101613.0</td>\n",
              "      <td>9.234992e+05</td>\n",
              "      <td>2.867319e+06</td>\n",
              "      <td>0.00</td>\n",
              "      <td>0.00</td>\n",
              "      <td>0.00</td>\n",
              "      <td>219217.76</td>\n",
              "      <td>38946233.02</td>\n",
              "    </tr>\n",
              "    <tr>\n",
              "      <th>saldo_inicial_c2</th>\n",
              "      <td>101613.0</td>\n",
              "      <td>8.810428e+05</td>\n",
              "      <td>2.399949e+06</td>\n",
              "      <td>0.00</td>\n",
              "      <td>0.00</td>\n",
              "      <td>21058.00</td>\n",
              "      <td>591921.70</td>\n",
              "      <td>34008736.98</td>\n",
              "    </tr>\n",
              "    <tr>\n",
              "      <th>novo_saldo_c2</th>\n",
              "      <td>101613.0</td>\n",
              "      <td>1.183998e+06</td>\n",
              "      <td>2.797761e+06</td>\n",
              "      <td>0.00</td>\n",
              "      <td>0.00</td>\n",
              "      <td>51783.43</td>\n",
              "      <td>1063121.64</td>\n",
              "      <td>38946233.02</td>\n",
              "    </tr>\n",
              "  </tbody>\n",
              "</table>\n",
              "</div>"
            ],
            "text/plain": [
              "                     count          mean           std   min       25%  \\\n",
              "fraude            101613.0  1.141586e-03  3.376824e-02  0.00      0.00   \n",
              "super_fraude      101613.0  0.000000e+00  0.000000e+00  0.00      0.00   \n",
              "tempo             101613.0  8.523457e+00  1.820681e+00  1.00      8.00   \n",
              "valor             101613.0  1.740901e+05  3.450199e+05  0.32  10016.59   \n",
              "saldo_inicial_c1  101613.0  9.071753e+05  2.829575e+06  0.00      0.00   \n",
              "novo_saldo_c1     101613.0  9.234992e+05  2.867319e+06  0.00      0.00   \n",
              "saldo_inicial_c2  101613.0  8.810428e+05  2.399949e+06  0.00      0.00   \n",
              "novo_saldo_c2     101613.0  1.183998e+06  2.797761e+06  0.00      0.00   \n",
              "\n",
              "                       50%         75%          max  \n",
              "fraude                0.00        0.00         1.00  \n",
              "super_fraude          0.00        0.00         0.00  \n",
              "tempo                 9.00       10.00        10.00  \n",
              "valor             53385.41   212498.40  10000000.00  \n",
              "saldo_inicial_c1  20190.47   194715.00  38939424.03  \n",
              "novo_saldo_c1         0.00   219217.76  38946233.02  \n",
              "saldo_inicial_c2  21058.00   591921.70  34008736.98  \n",
              "novo_saldo_c2     51783.43  1063121.64  38946233.02  "
            ]
          },
          "execution_count": 10,
          "metadata": {},
          "output_type": "execute_result"
        }
      ],
      "source": [
        "df.describe().T"
      ]
    },
    {
      "cell_type": "code",
      "execution_count": 11,
      "metadata": {
        "colab": {
          "base_uri": "https://localhost:8080/"
        },
        "id": "HYfIseCa1VyD",
        "outputId": "d78c9b91-9005-47ca-c8f6-e42dbe604954"
      },
      "outputs": [
        {
          "data": {
            "text/plain": [
              "(101613, 11)"
            ]
          },
          "execution_count": 11,
          "metadata": {},
          "output_type": "execute_result"
        }
      ],
      "source": [
        "df.shape"
      ]
    },
    {
      "cell_type": "code",
      "execution_count": 12,
      "metadata": {
        "colab": {
          "base_uri": "https://localhost:8080/"
        },
        "id": "E0w0mH0k1dI1",
        "outputId": "44ca0586-bae8-415c-ce0a-85d33a279969"
      },
      "outputs": [
        {
          "name": "stdout",
          "output_type": "stream",
          "text": [
            "<class 'pandas.core.frame.DataFrame'>\n",
            "RangeIndex: 101613 entries, 0 to 101612\n",
            "Data columns (total 11 columns):\n",
            " #   Column            Non-Null Count   Dtype  \n",
            "---  ------            --------------   -----  \n",
            " 0   fraude            101613 non-null  int64  \n",
            " 1   super_fraude      101613 non-null  int64  \n",
            " 2   tempo             101613 non-null  int64  \n",
            " 3   tipo              101613 non-null  object \n",
            " 4   valor             101613 non-null  float64\n",
            " 5   cliente1          101613 non-null  object \n",
            " 6   saldo_inicial_c1  101613 non-null  float64\n",
            " 7   novo_saldo_c1     101613 non-null  float64\n",
            " 8   cliente2          101613 non-null  object \n",
            " 9   saldo_inicial_c2  101613 non-null  float64\n",
            " 10  novo_saldo_c2     101613 non-null  float64\n",
            "dtypes: float64(5), int64(3), object(3)\n",
            "memory usage: 8.5+ MB\n"
          ]
        }
      ],
      "source": [
        "df.info()"
      ]
    },
    {
      "cell_type": "code",
      "execution_count": 13,
      "metadata": {
        "colab": {
          "base_uri": "https://localhost:8080/"
        },
        "id": "7AOtGIYC1gOq",
        "outputId": "2e49b4be-c98b-4d95-9c71-08b4049d0b7a"
      },
      "outputs": [
        {
          "data": {
            "text/plain": [
              "fraude\n",
              "0    101497\n",
              "1       116\n",
              "Name: tempo, dtype: int64"
            ]
          },
          "execution_count": 13,
          "metadata": {},
          "output_type": "execute_result"
        }
      ],
      "source": [
        "df.groupby('fraude').tempo.count()"
      ]
    },
    {
      "cell_type": "code",
      "execution_count": 14,
      "metadata": {
        "colab": {
          "base_uri": "https://localhost:8080/"
        },
        "id": "6fp8Ij8R1usT",
        "outputId": "194cde04-e0f6-4dc0-fbc4-6088fff1d5ed"
      },
      "outputs": [
        {
          "data": {
            "text/plain": [
              "False"
            ]
          },
          "execution_count": 14,
          "metadata": {},
          "output_type": "execute_result"
        }
      ],
      "source": [
        "df.isnull().values.any()"
      ]
    },
    {
      "cell_type": "markdown",
      "metadata": {
        "id": "SECPzwFJw6al"
      },
      "source": [
        "# Enconding"
      ]
    },
    {
      "cell_type": "markdown",
      "metadata": {
        "id": "Rs2PuCdyw872"
      },
      "source": [
        "## Pandas Profiling"
      ]
    },
    {
      "cell_type": "code",
      "execution_count": 16,
      "metadata": {
        "colab": {
          "base_uri": "https://localhost:8080/",
          "height": 952,
          "referenced_widgets": [
            "3b8d6acd849f420cb77c640a9be64f88",
            "09852a9d61f64b199e2b085b97c9a307",
            "65a57ec59c304ec9b1009b9e94911bcd",
            "16bc7ce1bf7a4c8890de25a9e8330af9",
            "dc9e982069a84844b894c75f7e344376",
            "5565129075894f65a3dddf752f0d89c9",
            "1ef6212a096f43d5a777188bed739eaa",
            "ca9ad3c94e934cc382bb086237bb041c",
            "940d1ec4d75b4968b912e76eb4eea21b",
            "38de1ee0872f4f9b940e8cdb9f764d5d",
            "bdedfe49e1724886b0d40ddd66df6f07",
            "06bb3e6891874ea7b1b3fcea8b2bcd4c",
            "b9b10f8db7b44281ab82db7577fdf1db",
            "1ae7513605ef43d29ee8fd9d9b3668bd",
            "8344e86d05bf4711abe50cfce14c1b35",
            "cc297384e74e424ea3cb2e83e5827337",
            "f0c68b808e864f72841ffd103b1cb0ae",
            "1b392f4d71f044708bc7aac2cf7ef836",
            "26bff1272e6b4f43a53c2cd66b7234f5",
            "331aeba441d0403da6443e047c29acc0",
            "8be33f0dd46c4d21af5542c729e08463",
            "7d9cf80ca1b44927b14dfb87c703eda9",
            "4de8a8efff7e4a54b8c7807cc4f8d0fa",
            "45ab9ad447c242308f85bd3ff941afef",
            "06ecd6146dd3441a91d06037ef812654",
            "b7992a30c7744620a29b73f7617f07f2",
            "05009f03af7746a79939bde868bc358f",
            "9ea53ddeb19a4418b94f837964dd9642",
            "223158e81f234cd99271234d30a177a2",
            "a17d92fec4d34502a734ffa44f9ab150",
            "0883e55e804d4423991d84d45256c480",
            "20ee8445e6324fde8aac3d3da0c78750",
            "16057b29865d4d6c8160a053c2c8f979"
          ]
        },
        "id": "SZcgEas4xE11",
        "outputId": "368b8ee7-545d-415e-e315-fc39dce5616f"
      },
      "outputs": [],
      "source": [
        "profile = ydata_profiling.ProfileReport(df)"
      ]
    },
    {
      "cell_type": "code",
      "execution_count": 17,
      "metadata": {},
      "outputs": [
        {
          "data": {
            "application/vnd.jupyter.widget-view+json": {
              "model_id": "539ef9a555444c059b713ba30d78b13c",
              "version_major": 2,
              "version_minor": 0
            },
            "text/plain": [
              "Summarize dataset:   0%|          | 0/5 [00:00<?, ?it/s]"
            ]
          },
          "metadata": {},
          "output_type": "display_data"
        },
        {
          "data": {
            "application/vnd.jupyter.widget-view+json": {
              "model_id": "2f3186f452a943d2be069e52dfb66f89",
              "version_major": 2,
              "version_minor": 0
            },
            "text/plain": [
              "Generate report structure:   0%|          | 0/1 [00:00<?, ?it/s]"
            ]
          },
          "metadata": {},
          "output_type": "display_data"
        },
        {
          "data": {
            "application/vnd.jupyter.widget-view+json": {
              "model_id": "a2ddf65047344dd9b1c92e8e25a68261",
              "version_major": 2,
              "version_minor": 0
            },
            "text/plain": [
              "Render widgets:   0%|          | 0/1 [00:00<?, ?it/s]"
            ]
          },
          "metadata": {},
          "output_type": "display_data"
        },
        {
          "data": {
            "application/vnd.jupyter.widget-view+json": {
              "model_id": "01b195cf289844e4a7cefe20241953b5",
              "version_major": 2,
              "version_minor": 0
            },
            "text/plain": [
              "VBox(children=(Tab(children=(Tab(children=(GridBox(children=(VBox(children=(GridspecLayout(children=(HTML(valu…"
            ]
          },
          "metadata": {},
          "output_type": "display_data"
        }
      ],
      "source": [
        "profile.to_widgets()"
      ]
    },
    {
      "cell_type": "markdown",
      "metadata": {
        "id": "vBrxp0SCzDyv"
      },
      "source": [
        "## Aplicando o Encoding"
      ]
    },
    {
      "cell_type": "markdown",
      "metadata": {
        "id": "0kPqbTAZzNCA"
      },
      "source": [
        "**Tipos de enconding**\n",
        "\n",
        "**Label Encoding** - Renomea as classes com valores numéricos de 1 a **n**, sendo **n** o número de classes. Pode existir hierarquia entre as classes.\n",
        "\n",
        "**One-Hot Encoding** - Transforma as variáveis em **n** colunas binárias, sendo **n** o número de classes. Todas as classes são analisadas de forma igual, quando tiver a ocorrência delea a coluna terá o valor 1 e quando não, o valor 0, isso acontece para as demais colunas criadas."
      ]
    },
    {
      "cell_type": "code",
      "execution_count": 18,
      "metadata": {
        "colab": {
          "base_uri": "https://localhost:8080/",
          "height": 206
        },
        "id": "UBhHT6iwxSJN",
        "outputId": "f851e45f-54e1-4e4a-9574-2ecc39cfbd22"
      },
      "outputs": [
        {
          "data": {
            "text/html": [
              "<div>\n",
              "<style scoped>\n",
              "    .dataframe tbody tr th:only-of-type {\n",
              "        vertical-align: middle;\n",
              "    }\n",
              "\n",
              "    .dataframe tbody tr th {\n",
              "        vertical-align: top;\n",
              "    }\n",
              "\n",
              "    .dataframe thead th {\n",
              "        text-align: right;\n",
              "    }\n",
              "</style>\n",
              "<table border=\"1\" class=\"dataframe\">\n",
              "  <thead>\n",
              "    <tr style=\"text-align: right;\">\n",
              "      <th></th>\n",
              "      <th>fraude</th>\n",
              "      <th>super_fraude</th>\n",
              "      <th>tempo</th>\n",
              "      <th>valor</th>\n",
              "      <th>cliente1</th>\n",
              "      <th>saldo_inicial_c1</th>\n",
              "      <th>novo_saldo_c1</th>\n",
              "      <th>cliente2</th>\n",
              "      <th>saldo_inicial_c2</th>\n",
              "      <th>novo_saldo_c2</th>\n",
              "      <th>tipo_CASH_IN</th>\n",
              "      <th>tipo_CASH_OUT</th>\n",
              "      <th>tipo_DEBIT</th>\n",
              "      <th>tipo_PAYMENT</th>\n",
              "      <th>tipo_TRANSFER</th>\n",
              "    </tr>\n",
              "  </thead>\n",
              "  <tbody>\n",
              "    <tr>\n",
              "      <th>0</th>\n",
              "      <td>0</td>\n",
              "      <td>0</td>\n",
              "      <td>1</td>\n",
              "      <td>9839.64</td>\n",
              "      <td>C1231006815</td>\n",
              "      <td>170136.0</td>\n",
              "      <td>160296.36</td>\n",
              "      <td>M1979787155</td>\n",
              "      <td>0.0</td>\n",
              "      <td>0.0</td>\n",
              "      <td>0</td>\n",
              "      <td>0</td>\n",
              "      <td>0</td>\n",
              "      <td>1</td>\n",
              "      <td>0</td>\n",
              "    </tr>\n",
              "    <tr>\n",
              "      <th>1</th>\n",
              "      <td>0</td>\n",
              "      <td>0</td>\n",
              "      <td>1</td>\n",
              "      <td>1864.28</td>\n",
              "      <td>C1666544295</td>\n",
              "      <td>21249.0</td>\n",
              "      <td>19384.72</td>\n",
              "      <td>M2044282225</td>\n",
              "      <td>0.0</td>\n",
              "      <td>0.0</td>\n",
              "      <td>0</td>\n",
              "      <td>0</td>\n",
              "      <td>0</td>\n",
              "      <td>1</td>\n",
              "      <td>0</td>\n",
              "    </tr>\n",
              "    <tr>\n",
              "      <th>2</th>\n",
              "      <td>1</td>\n",
              "      <td>0</td>\n",
              "      <td>1</td>\n",
              "      <td>181.00</td>\n",
              "      <td>C1305486145</td>\n",
              "      <td>181.0</td>\n",
              "      <td>0.00</td>\n",
              "      <td>C553264065</td>\n",
              "      <td>0.0</td>\n",
              "      <td>0.0</td>\n",
              "      <td>0</td>\n",
              "      <td>0</td>\n",
              "      <td>0</td>\n",
              "      <td>0</td>\n",
              "      <td>1</td>\n",
              "    </tr>\n",
              "    <tr>\n",
              "      <th>3</th>\n",
              "      <td>1</td>\n",
              "      <td>0</td>\n",
              "      <td>1</td>\n",
              "      <td>181.00</td>\n",
              "      <td>C840083671</td>\n",
              "      <td>181.0</td>\n",
              "      <td>0.00</td>\n",
              "      <td>C38997010</td>\n",
              "      <td>21182.0</td>\n",
              "      <td>0.0</td>\n",
              "      <td>0</td>\n",
              "      <td>1</td>\n",
              "      <td>0</td>\n",
              "      <td>0</td>\n",
              "      <td>0</td>\n",
              "    </tr>\n",
              "    <tr>\n",
              "      <th>4</th>\n",
              "      <td>0</td>\n",
              "      <td>0</td>\n",
              "      <td>1</td>\n",
              "      <td>11668.14</td>\n",
              "      <td>C2048537720</td>\n",
              "      <td>41554.0</td>\n",
              "      <td>29885.86</td>\n",
              "      <td>M1230701703</td>\n",
              "      <td>0.0</td>\n",
              "      <td>0.0</td>\n",
              "      <td>0</td>\n",
              "      <td>0</td>\n",
              "      <td>0</td>\n",
              "      <td>1</td>\n",
              "      <td>0</td>\n",
              "    </tr>\n",
              "  </tbody>\n",
              "</table>\n",
              "</div>"
            ],
            "text/plain": [
              "   fraude  super_fraude  tempo     valor     cliente1  saldo_inicial_c1  \\\n",
              "0       0             0      1   9839.64  C1231006815          170136.0   \n",
              "1       0             0      1   1864.28  C1666544295           21249.0   \n",
              "2       1             0      1    181.00  C1305486145             181.0   \n",
              "3       1             0      1    181.00   C840083671             181.0   \n",
              "4       0             0      1  11668.14  C2048537720           41554.0   \n",
              "\n",
              "   novo_saldo_c1     cliente2  saldo_inicial_c2  novo_saldo_c2  tipo_CASH_IN  \\\n",
              "0      160296.36  M1979787155               0.0            0.0             0   \n",
              "1       19384.72  M2044282225               0.0            0.0             0   \n",
              "2           0.00   C553264065               0.0            0.0             0   \n",
              "3           0.00    C38997010           21182.0            0.0             0   \n",
              "4       29885.86  M1230701703               0.0            0.0             0   \n",
              "\n",
              "   tipo_CASH_OUT  tipo_DEBIT  tipo_PAYMENT  tipo_TRANSFER  \n",
              "0              0           0             1              0  \n",
              "1              0           0             1              0  \n",
              "2              0           0             0              1  \n",
              "3              1           0             0              0  \n",
              "4              0           0             1              0  "
            ]
          },
          "execution_count": 18,
          "metadata": {},
          "output_type": "execute_result"
        }
      ],
      "source": [
        "df = pd.get_dummies(data=df, columns=['tipo'])\n",
        "df.head()"
      ]
    },
    {
      "cell_type": "markdown",
      "metadata": {
        "id": "qxBZErtx1YIv"
      },
      "source": [
        "## Removendo variáveis"
      ]
    },
    {
      "cell_type": "code",
      "execution_count": 19,
      "metadata": {
        "colab": {
          "base_uri": "https://localhost:8080/",
          "height": 206
        },
        "id": "O2jyuaBoxSGW",
        "outputId": "97736561-a970-45cf-8924-fa51fd128c00"
      },
      "outputs": [
        {
          "data": {
            "text/html": [
              "<div>\n",
              "<style scoped>\n",
              "    .dataframe tbody tr th:only-of-type {\n",
              "        vertical-align: middle;\n",
              "    }\n",
              "\n",
              "    .dataframe tbody tr th {\n",
              "        vertical-align: top;\n",
              "    }\n",
              "\n",
              "    .dataframe thead th {\n",
              "        text-align: right;\n",
              "    }\n",
              "</style>\n",
              "<table border=\"1\" class=\"dataframe\">\n",
              "  <thead>\n",
              "    <tr style=\"text-align: right;\">\n",
              "      <th></th>\n",
              "      <th>fraude</th>\n",
              "      <th>tempo</th>\n",
              "      <th>valor</th>\n",
              "      <th>saldo_inicial_c1</th>\n",
              "      <th>novo_saldo_c1</th>\n",
              "      <th>saldo_inicial_c2</th>\n",
              "      <th>novo_saldo_c2</th>\n",
              "      <th>tipo_CASH_IN</th>\n",
              "      <th>tipo_CASH_OUT</th>\n",
              "      <th>tipo_DEBIT</th>\n",
              "      <th>tipo_PAYMENT</th>\n",
              "      <th>tipo_TRANSFER</th>\n",
              "    </tr>\n",
              "  </thead>\n",
              "  <tbody>\n",
              "    <tr>\n",
              "      <th>0</th>\n",
              "      <td>0</td>\n",
              "      <td>1</td>\n",
              "      <td>9839.64</td>\n",
              "      <td>170136.0</td>\n",
              "      <td>160296.36</td>\n",
              "      <td>0.0</td>\n",
              "      <td>0.0</td>\n",
              "      <td>0</td>\n",
              "      <td>0</td>\n",
              "      <td>0</td>\n",
              "      <td>1</td>\n",
              "      <td>0</td>\n",
              "    </tr>\n",
              "    <tr>\n",
              "      <th>1</th>\n",
              "      <td>0</td>\n",
              "      <td>1</td>\n",
              "      <td>1864.28</td>\n",
              "      <td>21249.0</td>\n",
              "      <td>19384.72</td>\n",
              "      <td>0.0</td>\n",
              "      <td>0.0</td>\n",
              "      <td>0</td>\n",
              "      <td>0</td>\n",
              "      <td>0</td>\n",
              "      <td>1</td>\n",
              "      <td>0</td>\n",
              "    </tr>\n",
              "    <tr>\n",
              "      <th>2</th>\n",
              "      <td>1</td>\n",
              "      <td>1</td>\n",
              "      <td>181.00</td>\n",
              "      <td>181.0</td>\n",
              "      <td>0.00</td>\n",
              "      <td>0.0</td>\n",
              "      <td>0.0</td>\n",
              "      <td>0</td>\n",
              "      <td>0</td>\n",
              "      <td>0</td>\n",
              "      <td>0</td>\n",
              "      <td>1</td>\n",
              "    </tr>\n",
              "    <tr>\n",
              "      <th>3</th>\n",
              "      <td>1</td>\n",
              "      <td>1</td>\n",
              "      <td>181.00</td>\n",
              "      <td>181.0</td>\n",
              "      <td>0.00</td>\n",
              "      <td>21182.0</td>\n",
              "      <td>0.0</td>\n",
              "      <td>0</td>\n",
              "      <td>1</td>\n",
              "      <td>0</td>\n",
              "      <td>0</td>\n",
              "      <td>0</td>\n",
              "    </tr>\n",
              "    <tr>\n",
              "      <th>4</th>\n",
              "      <td>0</td>\n",
              "      <td>1</td>\n",
              "      <td>11668.14</td>\n",
              "      <td>41554.0</td>\n",
              "      <td>29885.86</td>\n",
              "      <td>0.0</td>\n",
              "      <td>0.0</td>\n",
              "      <td>0</td>\n",
              "      <td>0</td>\n",
              "      <td>0</td>\n",
              "      <td>1</td>\n",
              "      <td>0</td>\n",
              "    </tr>\n",
              "  </tbody>\n",
              "</table>\n",
              "</div>"
            ],
            "text/plain": [
              "   fraude  tempo     valor  saldo_inicial_c1  novo_saldo_c1  saldo_inicial_c2  \\\n",
              "0       0      1   9839.64          170136.0      160296.36               0.0   \n",
              "1       0      1   1864.28           21249.0       19384.72               0.0   \n",
              "2       1      1    181.00             181.0           0.00               0.0   \n",
              "3       1      1    181.00             181.0           0.00           21182.0   \n",
              "4       0      1  11668.14           41554.0       29885.86               0.0   \n",
              "\n",
              "   novo_saldo_c2  tipo_CASH_IN  tipo_CASH_OUT  tipo_DEBIT  tipo_PAYMENT  \\\n",
              "0            0.0             0              0           0             1   \n",
              "1            0.0             0              0           0             1   \n",
              "2            0.0             0              0           0             0   \n",
              "3            0.0             0              1           0             0   \n",
              "4            0.0             0              0           0             1   \n",
              "\n",
              "   tipo_TRANSFER  \n",
              "0              0  \n",
              "1              0  \n",
              "2              1  \n",
              "3              0  \n",
              "4              0  "
            ]
          },
          "execution_count": 19,
          "metadata": {},
          "output_type": "execute_result"
        }
      ],
      "source": [
        "df = df.drop(['cliente1', 'cliente2', 'super_fraude'], axis=1)\n",
        "df.head()"
      ]
    },
    {
      "cell_type": "markdown",
      "metadata": {
        "id": "if3GdZh_1-TL"
      },
      "source": [
        "# Regressão Logística"
      ]
    },
    {
      "cell_type": "code",
      "execution_count": 20,
      "metadata": {
        "id": "YlXRvXax1zE6"
      },
      "outputs": [],
      "source": [
        "x = df.drop('fraude', axis=1)\n",
        "y = df['fraude']"
      ]
    },
    {
      "cell_type": "code",
      "execution_count": 21,
      "metadata": {
        "id": "HaW4SlxGPirW"
      },
      "outputs": [],
      "source": [
        "SEED = 42\n",
        "x_train, x_test, y_train, y_test = train_test_split(x, y, test_size=0.25, random_state=SEED)"
      ]
    },
    {
      "cell_type": "code",
      "execution_count": 22,
      "metadata": {
        "colab": {
          "base_uri": "https://localhost:8080/"
        },
        "id": "OdXg7UZAPioM",
        "outputId": "f85fdbdb-81b5-4426-9b61-0e229a55d026"
      },
      "outputs": [
        {
          "name": "stdout",
          "output_type": "stream",
          "text": [
            "Acurácia: 0.9989765391276965\n",
            "Precisão: 0.2\n",
            "Recall: 0.043478260869565216\n",
            "F1: 0.07142857142857142\n"
          ]
        }
      ],
      "source": [
        "lr = LogisticRegression(max_iter=1000, random_state=SEED)\n",
        "lr.fit(x_train, y_train)\n",
        "y_pred = lr.predict(x_test)\n",
        "\n",
        "print(\"Acurácia:\", metrics.accuracy_score(y_test, y_pred))\n",
        "print(\"Precisão:\", metrics.precision_score(y_test, y_pred))\n",
        "print(\"Recall:\", metrics.recall_score(y_test, y_pred))\n",
        "print(\"F1:\", metrics.f1_score(y_test, y_pred))"
      ]
    },
    {
      "cell_type": "code",
      "execution_count": 58,
      "metadata": {
        "colab": {
          "base_uri": "https://localhost:8080/",
          "height": 297
        },
        "id": "Key4Zm2-PiiT",
        "outputId": "6641e46d-c888-48f2-d16a-4edc16948d17"
      },
      "outputs": [
        {
          "data": {
            "text/plain": [
              "<sklearn.metrics._plot.confusion_matrix.ConfusionMatrixDisplay at 0x1b605505760>"
            ]
          },
          "execution_count": 58,
          "metadata": {},
          "output_type": "execute_result"
        },
        {
          "data": {
            "image/png": "[encoded data removed]",
            "text/plain": [
              "<Figure size 864x576 with 2 Axes>"
            ]
          },
          "metadata": {
            "needs_background": "light"
          },
          "output_type": "display_data"
        }
      ],
      "source": [
        "cm = confusion_matrix(y_test, y_pred)\n",
        "disp = ConfusionMatrixDisplay(confusion_matrix=cm)\n",
        "disp.plot()"
      ]
    },
    {
      "cell_type": "code",
      "execution_count": 24,
      "metadata": {
        "colab": {
          "base_uri": "https://localhost:8080/",
          "height": 500
        },
        "id": "UZxSwb9LPiVt",
        "outputId": "f2138fb1-ae83-436d-ba9c-9e3fa5e76fee"
      },
      "outputs": [
        {
          "data": {
            "text/plain": [
              "<matplotlib.legend.Legend at 0x1b6071be3a0>"
            ]
          },
          "execution_count": 24,
          "metadata": {},
          "output_type": "execute_result"
        },
        {
          "data": {
            "image/png": "[encoded data removed]",
            "text/plain": [
              "<Figure size 864x576 with 1 Axes>"
            ]
          },
          "metadata": {
            "needs_background": "light"
          },
          "output_type": "display_data"
        }
      ],
      "source": [
        "y_pred_proba = lr.predict_proba(x_test)[::,1]\n",
        "fpr, tpr, _ = metrics.roc_curve(y_test, y_pred_proba)\n",
        "auc = metrics.roc_auc_score(y_test, y_pred_proba)\n",
        "\n",
        "plt.rcParams['figure.figsize'] = (12., 8.)\n",
        "plt.plot(fpr, tpr, label=\"LR, auc=\"+str(auc))\n",
        "plt.plot([0,1], [0,1], color='red', lw=2, linestyle='--')\n",
        "plt.legend(loc=4)"
      ]
    },
    {
      "cell_type": "markdown",
      "metadata": {
        "id": "C_KO7lfR8y54"
      },
      "source": [
        "# Balanceamento de dados"
      ]
    },
    {
      "cell_type": "markdown",
      "metadata": {
        "id": "qdJ_3rXZ-fNw"
      },
      "source": [
        "Existem dois tipos possíveis de balanceamento de dados: o undersampling e o oversampling. A primeira opção, undersampling, reduz todos os dados da nossa opção majoritária, isto é, de não fraude, para 116 dados, o que não faz tanto sentido no nosso caso, considerando que já não temos muitos dados de fraude e não teríamos tantos dados para treinamento. Seria complicado continuar fazendo as nossas análises e elas não trariam uma boa acurácia.\n",
        "\n",
        "A segunda opção, oversampling, é basicamente duplicar, fazer a cópia dos nossos dados da classe minoritária até chegar no valor da classe majoritária. Então, ela faria cópia dos dados de fraude, ou seja, criaria novos dados até chegarmos ao número de dados de não fraude.\n",
        "\n",
        "O oversampling apresenta alguns problemas quando tratamos de uma base de dados do mundo real, por exemplo, se tivéssemos utilizando a base de dados de um banco. Nesse caso, teríamos clientes reais e criaríamos dados sintéticos que trariam algum problema para as análises.\n",
        "\n",
        "Não teríamos certeza sobre os comportamentos dos clientes. Existem outros casos que podemos analisar com o oversampling, mas como já estamos trabalhando com uma base de dados sintéticos, não tem problema criarmos outros dados sintéticos. Também existem outras formas de driblarmos essa criação aleatória de dados. Uma delas é a técnica Smote, que utiliza KNN (K Nearest Neighbor)."
      ]
    },
    {
      "cell_type": "code",
      "execution_count": 25,
      "metadata": {
        "id": "7h7vWVSz7-Pn"
      },
      "outputs": [],
      "source": [
        "SEED = 42\n",
        "smote = SMOTE(random_state=SEED)"
      ]
    },
    {
      "cell_type": "code",
      "execution_count": 26,
      "metadata": {
        "id": "VQIe5pIJ7-FM"
      },
      "outputs": [],
      "source": [
        "x = df.drop('fraude', axis=1)\n",
        "y = df['fraude']"
      ]
    },
    {
      "cell_type": "code",
      "execution_count": 27,
      "metadata": {
        "id": "I3OkLDVF9WdT"
      },
      "outputs": [],
      "source": [
        "x_resample, y_resample = smote.fit_resample(x, y)"
      ]
    },
    {
      "cell_type": "code",
      "execution_count": 28,
      "metadata": {
        "colab": {
          "base_uri": "https://localhost:8080/",
          "height": 424
        },
        "id": "arUpggJw9Wa1",
        "outputId": "3b528fac-efa1-44f3-e978-72dbc872344f"
      },
      "outputs": [
        {
          "data": {
            "text/html": [
              "<div>\n",
              "<style scoped>\n",
              "    .dataframe tbody tr th:only-of-type {\n",
              "        vertical-align: middle;\n",
              "    }\n",
              "\n",
              "    .dataframe tbody tr th {\n",
              "        vertical-align: top;\n",
              "    }\n",
              "\n",
              "    .dataframe thead th {\n",
              "        text-align: right;\n",
              "    }\n",
              "</style>\n",
              "<table border=\"1\" class=\"dataframe\">\n",
              "  <thead>\n",
              "    <tr style=\"text-align: right;\">\n",
              "      <th></th>\n",
              "      <th>fraude</th>\n",
              "      <th>tempo</th>\n",
              "      <th>valor</th>\n",
              "      <th>saldo_inicial_c1</th>\n",
              "      <th>novo_saldo_c1</th>\n",
              "      <th>saldo_inicial_c2</th>\n",
              "      <th>novo_saldo_c2</th>\n",
              "      <th>tipo_CASH_IN</th>\n",
              "      <th>tipo_CASH_OUT</th>\n",
              "      <th>tipo_DEBIT</th>\n",
              "      <th>tipo_PAYMENT</th>\n",
              "      <th>tipo_TRANSFER</th>\n",
              "    </tr>\n",
              "  </thead>\n",
              "  <tbody>\n",
              "    <tr>\n",
              "      <th>0</th>\n",
              "      <td>0</td>\n",
              "      <td>1</td>\n",
              "      <td>9839.640000</td>\n",
              "      <td>170136.000000</td>\n",
              "      <td>160296.36</td>\n",
              "      <td>0.000000</td>\n",
              "      <td>0.000000</td>\n",
              "      <td>0</td>\n",
              "      <td>0</td>\n",
              "      <td>0</td>\n",
              "      <td>1</td>\n",
              "      <td>0</td>\n",
              "    </tr>\n",
              "    <tr>\n",
              "      <th>1</th>\n",
              "      <td>0</td>\n",
              "      <td>1</td>\n",
              "      <td>1864.280000</td>\n",
              "      <td>21249.000000</td>\n",
              "      <td>19384.72</td>\n",
              "      <td>0.000000</td>\n",
              "      <td>0.000000</td>\n",
              "      <td>0</td>\n",
              "      <td>0</td>\n",
              "      <td>0</td>\n",
              "      <td>1</td>\n",
              "      <td>0</td>\n",
              "    </tr>\n",
              "    <tr>\n",
              "      <th>2</th>\n",
              "      <td>1</td>\n",
              "      <td>1</td>\n",
              "      <td>181.000000</td>\n",
              "      <td>181.000000</td>\n",
              "      <td>0.00</td>\n",
              "      <td>0.000000</td>\n",
              "      <td>0.000000</td>\n",
              "      <td>0</td>\n",
              "      <td>0</td>\n",
              "      <td>0</td>\n",
              "      <td>0</td>\n",
              "      <td>1</td>\n",
              "    </tr>\n",
              "    <tr>\n",
              "      <th>3</th>\n",
              "      <td>1</td>\n",
              "      <td>1</td>\n",
              "      <td>181.000000</td>\n",
              "      <td>181.000000</td>\n",
              "      <td>0.00</td>\n",
              "      <td>21182.000000</td>\n",
              "      <td>0.000000</td>\n",
              "      <td>0</td>\n",
              "      <td>1</td>\n",
              "      <td>0</td>\n",
              "      <td>0</td>\n",
              "      <td>0</td>\n",
              "    </tr>\n",
              "    <tr>\n",
              "      <th>4</th>\n",
              "      <td>0</td>\n",
              "      <td>1</td>\n",
              "      <td>11668.140000</td>\n",
              "      <td>41554.000000</td>\n",
              "      <td>29885.86</td>\n",
              "      <td>0.000000</td>\n",
              "      <td>0.000000</td>\n",
              "      <td>0</td>\n",
              "      <td>0</td>\n",
              "      <td>0</td>\n",
              "      <td>1</td>\n",
              "      <td>0</td>\n",
              "    </tr>\n",
              "    <tr>\n",
              "      <th>...</th>\n",
              "      <td>...</td>\n",
              "      <td>...</td>\n",
              "      <td>...</td>\n",
              "      <td>...</td>\n",
              "      <td>...</td>\n",
              "      <td>...</td>\n",
              "      <td>...</td>\n",
              "      <td>...</td>\n",
              "      <td>...</td>\n",
              "      <td>...</td>\n",
              "      <td>...</td>\n",
              "      <td>...</td>\n",
              "    </tr>\n",
              "    <tr>\n",
              "      <th>202989</th>\n",
              "      <td>1</td>\n",
              "      <td>5</td>\n",
              "      <td>17608.962863</td>\n",
              "      <td>17608.962863</td>\n",
              "      <td>0.00</td>\n",
              "      <td>0.000000</td>\n",
              "      <td>0.000000</td>\n",
              "      <td>0</td>\n",
              "      <td>0</td>\n",
              "      <td>0</td>\n",
              "      <td>0</td>\n",
              "      <td>1</td>\n",
              "    </tr>\n",
              "    <tr>\n",
              "      <th>202990</th>\n",
              "      <td>1</td>\n",
              "      <td>7</td>\n",
              "      <td>12116.291013</td>\n",
              "      <td>12116.291013</td>\n",
              "      <td>0.00</td>\n",
              "      <td>0.000000</td>\n",
              "      <td>0.000000</td>\n",
              "      <td>0</td>\n",
              "      <td>0</td>\n",
              "      <td>0</td>\n",
              "      <td>0</td>\n",
              "      <td>1</td>\n",
              "    </tr>\n",
              "    <tr>\n",
              "      <th>202991</th>\n",
              "      <td>1</td>\n",
              "      <td>1</td>\n",
              "      <td>231612.880715</td>\n",
              "      <td>231612.880715</td>\n",
              "      <td>0.00</td>\n",
              "      <td>1945.589357</td>\n",
              "      <td>9370.603471</td>\n",
              "      <td>0</td>\n",
              "      <td>0</td>\n",
              "      <td>0</td>\n",
              "      <td>0</td>\n",
              "      <td>0</td>\n",
              "    </tr>\n",
              "    <tr>\n",
              "      <th>202992</th>\n",
              "      <td>1</td>\n",
              "      <td>9</td>\n",
              "      <td>547325.144758</td>\n",
              "      <td>547325.144758</td>\n",
              "      <td>0.00</td>\n",
              "      <td>0.000000</td>\n",
              "      <td>0.000000</td>\n",
              "      <td>0</td>\n",
              "      <td>0</td>\n",
              "      <td>0</td>\n",
              "      <td>0</td>\n",
              "      <td>1</td>\n",
              "    </tr>\n",
              "    <tr>\n",
              "      <th>202993</th>\n",
              "      <td>1</td>\n",
              "      <td>4</td>\n",
              "      <td>159298.594420</td>\n",
              "      <td>159298.594420</td>\n",
              "      <td>0.00</td>\n",
              "      <td>0.000000</td>\n",
              "      <td>0.000000</td>\n",
              "      <td>0</td>\n",
              "      <td>0</td>\n",
              "      <td>0</td>\n",
              "      <td>0</td>\n",
              "      <td>1</td>\n",
              "    </tr>\n",
              "  </tbody>\n",
              "</table>\n",
              "<p>202994 rows × 12 columns</p>\n",
              "</div>"
            ],
            "text/plain": [
              "        fraude  tempo          valor  saldo_inicial_c1  novo_saldo_c1  \\\n",
              "0            0      1    9839.640000     170136.000000      160296.36   \n",
              "1            0      1    1864.280000      21249.000000       19384.72   \n",
              "2            1      1     181.000000        181.000000           0.00   \n",
              "3            1      1     181.000000        181.000000           0.00   \n",
              "4            0      1   11668.140000      41554.000000       29885.86   \n",
              "...        ...    ...            ...               ...            ...   \n",
              "202989       1      5   17608.962863      17608.962863           0.00   \n",
              "202990       1      7   12116.291013      12116.291013           0.00   \n",
              "202991       1      1  231612.880715     231612.880715           0.00   \n",
              "202992       1      9  547325.144758     547325.144758           0.00   \n",
              "202993       1      4  159298.594420     159298.594420           0.00   \n",
              "\n",
              "        saldo_inicial_c2  novo_saldo_c2  tipo_CASH_IN  tipo_CASH_OUT  \\\n",
              "0               0.000000       0.000000             0              0   \n",
              "1               0.000000       0.000000             0              0   \n",
              "2               0.000000       0.000000             0              0   \n",
              "3           21182.000000       0.000000             0              1   \n",
              "4               0.000000       0.000000             0              0   \n",
              "...                  ...            ...           ...            ...   \n",
              "202989          0.000000       0.000000             0              0   \n",
              "202990          0.000000       0.000000             0              0   \n",
              "202991       1945.589357    9370.603471             0              0   \n",
              "202992          0.000000       0.000000             0              0   \n",
              "202993          0.000000       0.000000             0              0   \n",
              "\n",
              "        tipo_DEBIT  tipo_PAYMENT  tipo_TRANSFER  \n",
              "0                0             1              0  \n",
              "1                0             1              0  \n",
              "2                0             0              1  \n",
              "3                0             0              0  \n",
              "4                0             1              0  \n",
              "...            ...           ...            ...  \n",
              "202989           0             0              1  \n",
              "202990           0             0              1  \n",
              "202991           0             0              0  \n",
              "202992           0             0              1  \n",
              "202993           0             0              1  \n",
              "\n",
              "[202994 rows x 12 columns]"
            ]
          },
          "execution_count": 28,
          "metadata": {},
          "output_type": "execute_result"
        }
      ],
      "source": [
        "df_balanced = pd.concat([y_resample, x_resample], axis=1)\n",
        "df_balanced"
      ]
    },
    {
      "cell_type": "code",
      "execution_count": 29,
      "metadata": {
        "colab": {
          "base_uri": "https://localhost:8080/"
        },
        "id": "AgeP_FV_98OI",
        "outputId": "c1541985-7abf-45df-de3a-a9039f61b6b2"
      },
      "outputs": [
        {
          "data": {
            "text/plain": [
              "fraude\n",
              "0    101497\n",
              "1    101497\n",
              "Name: tempo, dtype: int64"
            ]
          },
          "execution_count": 29,
          "metadata": {},
          "output_type": "execute_result"
        }
      ],
      "source": [
        "df_balanced.groupby('fraude').tempo.count()"
      ]
    },
    {
      "cell_type": "markdown",
      "metadata": {
        "id": "pqVkUfh0BVjs"
      },
      "source": [
        "### Novo teste do LR"
      ]
    },
    {
      "cell_type": "code",
      "execution_count": 30,
      "metadata": {
        "id": "OS7ADR4U-AXr"
      },
      "outputs": [],
      "source": [
        "x = df_balanced.iloc[:, 1:].values\n",
        "y = df_balanced.iloc[:, 0].values"
      ]
    },
    {
      "cell_type": "code",
      "execution_count": 31,
      "metadata": {
        "id": "2JpE2aHp-AUs"
      },
      "outputs": [],
      "source": [
        "SEED = 42\n",
        "x_train, x_test, y_train, y_test = train_test_split(x, y, test_size=0.25, random_state=SEED)"
      ]
    },
    {
      "cell_type": "code",
      "execution_count": 32,
      "metadata": {
        "colab": {
          "base_uri": "https://localhost:8080/"
        },
        "id": "Rg7L4kv2CIRH",
        "outputId": "337ba821-debb-4da5-c04b-9fd021f8f921"
      },
      "outputs": [
        {
          "name": "stdout",
          "output_type": "stream",
          "text": [
            "Acurácia: 0.9417722516699837\n",
            "Precisão: 0.9241993556945234\n",
            "Recall: 0.9623125493291239\n",
            "F1: 0.9428709521507975\n"
          ]
        }
      ],
      "source": [
        "lr = LogisticRegression(max_iter=1000, random_state=SEED)\n",
        "lr.fit(x_train, y_train)\n",
        "y_pred = lr.predict(x_test)\n",
        "\n",
        "print(\"Acurácia:\", metrics.accuracy_score(y_test, y_pred))\n",
        "print(\"Precisão:\", metrics.precision_score(y_test, y_pred))\n",
        "print(\"Recall:\", metrics.recall_score(y_test, y_pred))\n",
        "print(\"F1:\", metrics.f1_score(y_test, y_pred))"
      ]
    },
    {
      "cell_type": "code",
      "execution_count": 33,
      "metadata": {
        "colab": {
          "base_uri": "https://localhost:8080/",
          "height": 514
        },
        "id": "mu8WRp_mCIOY",
        "outputId": "80dbf020-2f0c-4be7-c8d7-7d108b24fb9e"
      },
      "outputs": [
        {
          "data": {
            "text/plain": [
              "<sklearn.metrics._plot.confusion_matrix.ConfusionMatrixDisplay at 0x1b6071d9610>"
            ]
          },
          "execution_count": 33,
          "metadata": {},
          "output_type": "execute_result"
        },
        {
          "data": {
            "image/png": "[encoded data removed]",
            "text/plain": [
              "<Figure size 864x576 with 2 Axes>"
            ]
          },
          "metadata": {
            "needs_background": "light"
          },
          "output_type": "display_data"
        }
      ],
      "source": [
        "cm = confusion_matrix(y_test, y_pred)\n",
        "disp = ConfusionMatrixDisplay(confusion_matrix=cm)\n",
        "disp.plot()"
      ]
    },
    {
      "cell_type": "code",
      "execution_count": 34,
      "metadata": {
        "colab": {
          "base_uri": "https://localhost:8080/",
          "height": 500
        },
        "id": "Q41dIAKkCIL9",
        "outputId": "9b15e69b-2187-4dba-bba3-484605fb18a7"
      },
      "outputs": [
        {
          "data": {
            "text/plain": [
              "<matplotlib.legend.Legend at 0x1b607f6c820>"
            ]
          },
          "execution_count": 34,
          "metadata": {},
          "output_type": "execute_result"
        },
        {
          "data": {
            "image/png": "[encoded data removed]",
            "text/plain": [
              "<Figure size 864x576 with 1 Axes>"
            ]
          },
          "metadata": {
            "needs_background": "light"
          },
          "output_type": "display_data"
        }
      ],
      "source": [
        "y_pred_proba = lr.predict_proba(x_test)[::,1]\n",
        "fpr, tpr, _ = metrics.roc_curve(y_test, y_pred_proba)\n",
        "auc = metrics.roc_auc_score(y_test, y_pred_proba)\n",
        "\n",
        "plt.rcParams['figure.figsize'] = (12., 8.)\n",
        "plt.plot(fpr, tpr, label=\"LR, auc=\"+str(auc))\n",
        "plt.plot([0,1], [0,1], color='red', lw=2, linestyle='--')\n",
        "plt.legend(loc=4)"
      ]
    },
    {
      "cell_type": "markdown",
      "metadata": {
        "id": "rGRiCvNqDgJq"
      },
      "source": [
        "### Formulando as hipóteses"
      ]
    },
    {
      "cell_type": "code",
      "execution_count": 35,
      "metadata": {
        "colab": {
          "base_uri": "https://localhost:8080/",
          "height": 917,
          "referenced_widgets": [
            "9812e551dc6e4fc89693340facd58cd7",
            "932659dd499042d2a4b1ae7bdcd8b186",
            "973f062a783542c48599404fbc056bdd",
            "04d5f555294249c4a79112b2a2068dc1",
            "621af93e43d842ad9c9c3aeee310ab18",
            "ca4747e89c084bc19d4d06f5488a358a",
            "a287635aa3044ac0aa307e5020277e4b",
            "462f1ef0d18d4106bc96a4dfc919ec58",
            "ca9e74fdf0024f02a8584bb9301f36ff",
            "d5d65d07b840470f986a60658d87031d",
            "100379495a434e04aa2e0d5a56dfbf64",
            "4a4545470c6744f5b405f707118c0224",
            "7ab64f15db99455ab398c0aa15e18b22",
            "996cff594dd842f2ac5ef62f390ff6df",
            "d57b0782cae240c9b5ea05a29e89b2c1",
            "caacd86c8461478e86e4df4a96dc3ae8",
            "b46ff347922741b995006d005698b019",
            "ed5376d3d28c4c4f808c9d80054c3858",
            "1e96d21335794a8a90b2c1fcb110ca6f",
            "730149d3e2a14468aef201a133777542",
            "6b93e87503d548ef9afff9c261969a7e",
            "60d3742042e246babf98b252772d6f64",
            "288516a17e3a4e4b8f0bf42b8441c698",
            "a1d88ae0664944e4be568659f127c3b4",
            "f799c739c3a74db48e38181feedfc3b3",
            "fd34a5f97c704ba6bcaa5af4ed23971c",
            "b66b8f5bcfeb4382867b9c4c6404a8f7",
            "d20119fef5bd4dd9b9f9bff29304d2d7",
            "de787ad647a94e949ac19a669eed3bb1",
            "104a858b4ea248388ee10aa153a60a0a",
            "bda820eed4094d3fab83fde73502a252",
            "d60879554fdd4fe8a18bb43cd699d530",
            "47bc71333daa4a4f821651b3c13009cd"
          ]
        },
        "id": "VfxO6dydDC8A",
        "outputId": "d85dfebb-b20f-4b40-c045-d814ffa673b1"
      },
      "outputs": [],
      "source": [
        "profile = ydata_profiling.ProfileReport(df_balanced)"
      ]
    },
    {
      "cell_type": "code",
      "execution_count": 36,
      "metadata": {},
      "outputs": [
        {
          "data": {
            "application/vnd.jupyter.widget-view+json": {
              "model_id": "7ccb20d2b2224314827ae79d25ce0c04",
              "version_major": 2,
              "version_minor": 0
            },
            "text/plain": [
              "Summarize dataset:   0%|          | 0/5 [00:00<?, ?it/s]"
            ]
          },
          "metadata": {},
          "output_type": "display_data"
        },
        {
          "data": {
            "application/vnd.jupyter.widget-view+json": {
              "model_id": "d30263559ff14ea49c0b084f4a141497",
              "version_major": 2,
              "version_minor": 0
            },
            "text/plain": [
              "Generate report structure:   0%|          | 0/1 [00:00<?, ?it/s]"
            ]
          },
          "metadata": {},
          "output_type": "display_data"
        },
        {
          "data": {
            "application/vnd.jupyter.widget-view+json": {
              "model_id": "57c29ad03a8a42b1afed744dc0f411a6",
              "version_major": 2,
              "version_minor": 0
            },
            "text/plain": [
              "Render widgets:   0%|          | 0/1 [00:00<?, ?it/s]"
            ]
          },
          "metadata": {},
          "output_type": "display_data"
        },
        {
          "data": {
            "application/vnd.jupyter.widget-view+json": {
              "model_id": "c64e7c84097545889062bc1bc00e0071",
              "version_major": 2,
              "version_minor": 0
            },
            "text/plain": [
              "VBox(children=(Tab(children=(Tab(children=(GridBox(children=(VBox(children=(GridspecLayout(children=(HTML(valu…"
            ]
          },
          "metadata": {},
          "output_type": "display_data"
        }
      ],
      "source": [
        "profile.to_widgets()"
      ]
    },
    {
      "cell_type": "markdown",
      "metadata": {
        "id": "95Zwjh3pFKzb"
      },
      "source": [
        "Hipóteses\n",
        "\n",
        "\n",
        "\n",
        "*   tipo_PAYMENT é o que a pessoa utiuliza como padrão e a fraude ocorre por meio do tipo_TRANSFER\n",
        "*   O cliente pode fazer seus pagamentos durante um período do dia, como por exemplo durante a manhã, e a fraude ocorre durante um período diferente, como a madrugada.\n",
        "*   O cliente paga as suas contas no começo do mês e houve uma movimentação no final do mês, sendo uma fraude.\n",
        "\n"
      ]
    },
    {
      "cell_type": "markdown",
      "metadata": {
        "id": "HyIu4h7K2XYv"
      },
      "source": [
        "# Árvore de Decisão"
      ]
    },
    {
      "cell_type": "code",
      "execution_count": 37,
      "metadata": {
        "id": "q_OqWPt921Fl"
      },
      "outputs": [],
      "source": [
        "dt = DecisionTreeClassifier(max_depth=5, random_state=SEED)"
      ]
    },
    {
      "cell_type": "code",
      "execution_count": 38,
      "metadata": {
        "colab": {
          "base_uri": "https://localhost:8080/"
        },
        "id": "jffdGpRk3GWx",
        "outputId": "cd39cefa-e733-4294-dc02-1ddee2b4d49a"
      },
      "outputs": [
        {
          "name": "stdout",
          "output_type": "stream",
          "text": [
            "Acurácia: 0.9622849711324362\n",
            "Precisão: 0.9381639982043992\n",
            "Recall: 0.9897000789265983\n",
            "F1: 0.9632432017206943\n"
          ]
        }
      ],
      "source": [
        "dt.fit(x_train, y_train)\n",
        "y_pred = dt.predict(x_test)\n",
        "\n",
        "print(\"Acurácia:\", metrics.accuracy_score(y_test, y_pred))\n",
        "print(\"Precisão:\", metrics.precision_score(y_test, y_pred))\n",
        "print(\"Recall:\", metrics.recall_score(y_test, y_pred))\n",
        "print(\"F1:\", metrics.f1_score(y_test, y_pred))"
      ]
    },
    {
      "cell_type": "code",
      "execution_count": 39,
      "metadata": {
        "colab": {
          "base_uri": "https://localhost:8080/",
          "height": 516
        },
        "id": "kjV8GBkH3E8B",
        "outputId": "6dae4257-b450-4f74-8f01-4178ad2c41ae"
      },
      "outputs": [
        {
          "data": {
            "text/plain": [
              "<sklearn.metrics._plot.confusion_matrix.ConfusionMatrixDisplay at 0x1b67596ad60>"
            ]
          },
          "execution_count": 39,
          "metadata": {},
          "output_type": "execute_result"
        },
        {
          "data": {
            "image/png": "[encoded data removed]",
            "text/plain": [
              "<Figure size 864x576 with 2 Axes>"
            ]
          },
          "metadata": {
            "needs_background": "light"
          },
          "output_type": "display_data"
        }
      ],
      "source": [
        "cm = confusion_matrix(y_test, y_pred)\n",
        "disp = ConfusionMatrixDisplay(confusion_matrix=cm)\n",
        "disp.plot()"
      ]
    },
    {
      "cell_type": "code",
      "execution_count": 40,
      "metadata": {
        "colab": {
          "base_uri": "https://localhost:8080/",
          "height": 500
        },
        "id": "LFjkADst3Eyr",
        "outputId": "54e13981-1cdf-49c0-b343-ef939d10dbdf"
      },
      "outputs": [
        {
          "data": {
            "text/plain": [
              "<matplotlib.legend.Legend at 0x1b600bd4fd0>"
            ]
          },
          "execution_count": 40,
          "metadata": {},
          "output_type": "execute_result"
        },
        {
          "data": {
            "image/png": "[encoded data removed]",
            "text/plain": [
              "<Figure size 864x576 with 1 Axes>"
            ]
          },
          "metadata": {
            "needs_background": "light"
          },
          "output_type": "display_data"
        }
      ],
      "source": [
        "y_pred_proba = dt.predict_proba(x_test)[::,1]\n",
        "fpr, tpr, _ = metrics.roc_curve(y_test, y_pred_proba)\n",
        "auc = metrics.roc_auc_score(y_test, y_pred_proba)\n",
        "\n",
        "plt.rcParams['figure.figsize'] = (12., 8.)\n",
        "plt.plot(fpr, tpr, label=\"LR, auc=\"+str(auc))\n",
        "plt.plot([0,1], [0,1], color='red', lw=2, linestyle='--')\n",
        "plt.legend(loc=4)"
      ]
    },
    {
      "cell_type": "markdown",
      "metadata": {
        "id": "aP8BVzAK4e7D"
      },
      "source": [
        "# Random Forest"
      ]
    },
    {
      "cell_type": "code",
      "execution_count": 41,
      "metadata": {
        "id": "gJQrwOIG46ul"
      },
      "outputs": [],
      "source": [
        "rf = RandomForestClassifier(max_depth=5, random_state=SEED)"
      ]
    },
    {
      "cell_type": "code",
      "execution_count": 42,
      "metadata": {
        "colab": {
          "base_uri": "https://localhost:8080/"
        },
        "id": "ud4uFkHf53Zx",
        "outputId": "b0a724d8-7202-4577-d771-664fe5cf3a3b"
      },
      "outputs": [
        {
          "name": "stdout",
          "output_type": "stream",
          "text": [
            "Acurácia: 0.9723738398786183\n",
            "Precisão: 0.9705165500432424\n",
            "Recall: 0.9742699289660616\n",
            "F1: 0.9723896175509079\n"
          ]
        }
      ],
      "source": [
        "rf.fit(x_train, y_train)\n",
        "y_pred = rf.predict(x_test)\n",
        "\n",
        "print(\"Acurácia:\", metrics.accuracy_score(y_test, y_pred))\n",
        "print(\"Precisão:\", metrics.precision_score(y_test, y_pred))\n",
        "print(\"Recall:\", metrics.recall_score(y_test, y_pred))\n",
        "print(\"F1:\", metrics.f1_score(y_test, y_pred))"
      ]
    },
    {
      "cell_type": "code",
      "execution_count": 43,
      "metadata": {
        "colab": {
          "base_uri": "https://localhost:8080/",
          "height": 514
        },
        "id": "t25ON-AV53Wy",
        "outputId": "ce3585eb-2c1c-4eb8-a2a3-2fe5f5c6eccd"
      },
      "outputs": [
        {
          "data": {
            "text/plain": [
              "<sklearn.metrics._plot.confusion_matrix.ConfusionMatrixDisplay at 0x1b603da97c0>"
            ]
          },
          "execution_count": 43,
          "metadata": {},
          "output_type": "execute_result"
        },
        {
          "data": {
            "image/png": "[encoded data removed]",
            "text/plain": [
              "<Figure size 864x576 with 2 Axes>"
            ]
          },
          "metadata": {
            "needs_background": "light"
          },
          "output_type": "display_data"
        }
      ],
      "source": [
        "cm = confusion_matrix(y_test, y_pred)\n",
        "disp = ConfusionMatrixDisplay(confusion_matrix=cm)\n",
        "disp.plot()"
      ]
    },
    {
      "cell_type": "code",
      "execution_count": 44,
      "metadata": {
        "colab": {
          "base_uri": "https://localhost:8080/",
          "height": 500
        },
        "id": "b_7NWUlE53MM",
        "outputId": "e67e0cbc-d4ca-4b78-afba-b778cf2a389b"
      },
      "outputs": [
        {
          "data": {
            "text/plain": [
              "<matplotlib.legend.Legend at 0x1b603f9d610>"
            ]
          },
          "execution_count": 44,
          "metadata": {},
          "output_type": "execute_result"
        },
        {
          "data": {
            "image/png": "[encoded data removed]",
            "text/plain": [
              "<Figure size 864x576 with 1 Axes>"
            ]
          },
          "metadata": {
            "needs_background": "light"
          },
          "output_type": "display_data"
        }
      ],
      "source": [
        "y_pred_proba = rf.predict_proba(x_test)[::,1]\n",
        "fpr, tpr, _ = metrics.roc_curve(y_test, y_pred_proba)\n",
        "auc = metrics.roc_auc_score(y_test, y_pred_proba)\n",
        "\n",
        "plt.rcParams['figure.figsize'] = (12., 8.)\n",
        "plt.plot(fpr, tpr, label=\"LR, auc=\"+str(auc))\n",
        "plt.plot([0,1], [0,1], color='red', lw=2, linestyle='--')\n",
        "plt.legend(loc=4)"
      ]
    },
    {
      "cell_type": "markdown",
      "metadata": {
        "id": "jArXieIL8Rl9"
      },
      "source": [
        "# Análise de Métricas"
      ]
    },
    {
      "cell_type": "code",
      "execution_count": 45,
      "metadata": {
        "id": "BIZFvxff8T-8"
      },
      "outputs": [],
      "source": [
        "classifiers = [\n",
        "    LogisticRegression(max_iter=1000, random_state=SEED),\n",
        "    DecisionTreeClassifier(max_depth=5, random_state=SEED),\n",
        "    RandomForestClassifier(max_depth=5, random_state=SEED)\n",
        "]"
      ]
    },
    {
      "cell_type": "code",
      "execution_count": 46,
      "metadata": {
        "colab": {
          "base_uri": "https://localhost:8080/",
          "height": 1000
        },
        "id": "AkBt5FyI8UD0",
        "outputId": "77d0bced-de2a-47eb-fc82-39cf68eee2c0"
      },
      "outputs": [
        {
          "name": "stdout",
          "output_type": "stream",
          "text": [
            "==============================\n",
            "LogisticRegression\n",
            "*** Resultados ***\n",
            "Acurácia: 0.9417722516699837\n",
            "Precisão: 0.9241993556945234\n",
            "Recall: 0.9623125493291239\n",
            "F1: 0.9428709521507975\n",
            "==============================\n",
            "DecisionTreeClassifier\n",
            "*** Resultados ***\n",
            "Acurácia: 0.9622849711324362\n",
            "Precisão: 0.9381639982043992\n",
            "Recall: 0.9897000789265983\n",
            "F1: 0.9632432017206943\n",
            "==============================\n",
            "RandomForestClassifier\n",
            "*** Resultados ***\n",
            "Acurácia: 0.9723738398786183\n",
            "Precisão: 0.9705165500432424\n",
            "Recall: 0.9742699289660616\n",
            "F1: 0.9723896175509079\n"
          ]
        },
        {
          "data": {
            "image/png": "[encoded data removed]",
            "text/plain": [
              "<Figure size 864x576 with 2 Axes>"
            ]
          },
          "metadata": {
            "needs_background": "light"
          },
          "output_type": "display_data"
        },
        {
          "data": {
            "image/png": "[encoded data removed]",
            "text/plain": [
              "<Figure size 864x576 with 2 Axes>"
            ]
          },
          "metadata": {
            "needs_background": "light"
          },
          "output_type": "display_data"
        },
        {
          "data": {
            "image/png": "[encoded data removed]",
            "text/plain": [
              "<Figure size 864x576 with 2 Axes>"
            ]
          },
          "metadata": {
            "needs_background": "light"
          },
          "output_type": "display_data"
        }
      ],
      "source": [
        "for clf in classifiers:\n",
        "    clf.fit(x_train, y_train)\n",
        "    name = clf.__class__.__name__\n",
        "    print(\"=\"*30)\n",
        "    print(name)\n",
        "    print(\"*** Resultados ***\")\n",
        "    y_pred = clf.predict(x_test)\n",
        "    \n",
        "    print(\"Acurácia:\", metrics.accuracy_score(y_test, y_pred))\n",
        "    print(\"Precisão:\", metrics.precision_score(y_test, y_pred))\n",
        "    print(\"Recall:\", metrics.recall_score(y_test, y_pred))\n",
        "    print(\"F1:\", metrics.f1_score(y_test, y_pred))\n",
        "\n",
        "    cm = confusion_matrix(y_test, y_pred)\n",
        "    disp = ConfusionMatrixDisplay(confusion_matrix=cm)\n",
        "    disp.plot()"
      ]
    },
    {
      "cell_type": "markdown",
      "metadata": {
        "id": "tGGrdHdaAt6X"
      },
      "source": [
        "# Melhorando o modelo"
      ]
    },
    {
      "cell_type": "code",
      "execution_count": 47,
      "metadata": {
        "id": "69ysULnXCwit"
      },
      "outputs": [],
      "source": [
        "n_estimator = np.arange(20, 200, step=20)\n",
        "criterion = ['gini','entropy']\n",
        "max_features = ['auto','sqrt','log2']\n",
        "max_depth = list(np.arange(2, 10, step=2))\n",
        "min_samples_leaf = [1, 2, 4]\n",
        "bootstrap = [True, False]"
      ]
    },
    {
      "cell_type": "code",
      "execution_count": 48,
      "metadata": {
        "id": "y5LCqheaHRJ9"
      },
      "outputs": [],
      "source": [
        "param_grid = {\n",
        "    \"n_estimators\": n_estimator,\n",
        "    \"criterion\": criterion,\n",
        "    \"max_features\": max_features,\n",
        "    \"max_depth\": max_depth,\n",
        "    \"min_samples_leaf\": min_samples_leaf,\n",
        "    \"bootstrap\": bootstrap\n",
        "}"
      ]
    },
    {
      "cell_type": "code",
      "execution_count": 49,
      "metadata": {
        "id": "rzH5YKXVH1yp"
      },
      "outputs": [],
      "source": [
        "SEED = 70\n",
        "rforest = RandomForestClassifier(random_state=SEED)"
      ]
    },
    {
      "cell_type": "code",
      "execution_count": 50,
      "metadata": {
        "id": "bXzzctjGIPUd"
      },
      "outputs": [],
      "source": [
        "random_cv = RandomizedSearchCV(\n",
        "    rforest, param_grid, n_iter=5, cv=3, scoring='recall', n_jobs=-1, random_state=SEED\n",
        ")"
      ]
    },
    {
      "cell_type": "code",
      "execution_count": 51,
      "metadata": {
        "colab": {
          "base_uri": "https://localhost:8080/"
        },
        "id": "3ezgt0yZIpq2",
        "outputId": "d6d0c0c2-b982-418b-d3e4-5c2d43d642d3"
      },
      "outputs": [
        {
          "name": "stdout",
          "output_type": "stream",
          "text": [
            "CPU times: total: 7.45 s\n",
            "Wall time: 1min 36s\n"
          ]
        }
      ],
      "source": [
        "%%time\n",
        "rcv = random_cv.fit(x,y)"
      ]
    },
    {
      "cell_type": "code",
      "execution_count": 52,
      "metadata": {
        "colab": {
          "base_uri": "https://localhost:8080/",
          "height": 513
        },
        "id": "-zKgybCHKib8",
        "outputId": "0858525c-241c-426b-f283-e488f95f592a"
      },
      "outputs": [
        {
          "data": {
            "text/html": [
              "<div>\n",
              "<style scoped>\n",
              "    .dataframe tbody tr th:only-of-type {\n",
              "        vertical-align: middle;\n",
              "    }\n",
              "\n",
              "    .dataframe tbody tr th {\n",
              "        vertical-align: top;\n",
              "    }\n",
              "\n",
              "    .dataframe thead th {\n",
              "        text-align: right;\n",
              "    }\n",
              "</style>\n",
              "<table border=\"1\" class=\"dataframe\">\n",
              "  <thead>\n",
              "    <tr style=\"text-align: right;\">\n",
              "      <th></th>\n",
              "      <th>mean_fit_time</th>\n",
              "      <th>std_fit_time</th>\n",
              "      <th>mean_score_time</th>\n",
              "      <th>std_score_time</th>\n",
              "      <th>param_n_estimators</th>\n",
              "      <th>param_min_samples_leaf</th>\n",
              "      <th>param_max_features</th>\n",
              "      <th>param_max_depth</th>\n",
              "      <th>param_criterion</th>\n",
              "      <th>param_bootstrap</th>\n",
              "      <th>params</th>\n",
              "      <th>split0_test_score</th>\n",
              "      <th>split1_test_score</th>\n",
              "      <th>split2_test_score</th>\n",
              "      <th>mean_test_score</th>\n",
              "      <th>std_test_score</th>\n",
              "      <th>rank_test_score</th>\n",
              "    </tr>\n",
              "  </thead>\n",
              "  <tbody>\n",
              "    <tr>\n",
              "      <th>0</th>\n",
              "      <td>32.588144</td>\n",
              "      <td>0.844401</td>\n",
              "      <td>1.355897</td>\n",
              "      <td>0.094073</td>\n",
              "      <td>160</td>\n",
              "      <td>4</td>\n",
              "      <td>sqrt</td>\n",
              "      <td>6</td>\n",
              "      <td>gini</td>\n",
              "      <td>True</td>\n",
              "      <td>{'n_estimators': 160, 'min_samples_leaf': 4, '...</td>\n",
              "      <td>0.977950</td>\n",
              "      <td>0.999941</td>\n",
              "      <td>0.972718</td>\n",
              "      <td>0.983536</td>\n",
              "      <td>0.011795</td>\n",
              "      <td>2</td>\n",
              "    </tr>\n",
              "    <tr>\n",
              "      <th>1</th>\n",
              "      <td>36.196470</td>\n",
              "      <td>1.319996</td>\n",
              "      <td>0.843442</td>\n",
              "      <td>0.028883</td>\n",
              "      <td>100</td>\n",
              "      <td>1</td>\n",
              "      <td>auto</td>\n",
              "      <td>6</td>\n",
              "      <td>entropy</td>\n",
              "      <td>False</td>\n",
              "      <td>{'n_estimators': 100, 'min_samples_leaf': 1, '...</td>\n",
              "      <td>0.974314</td>\n",
              "      <td>0.999970</td>\n",
              "      <td>0.963437</td>\n",
              "      <td>0.979241</td>\n",
              "      <td>0.015316</td>\n",
              "      <td>3</td>\n",
              "    </tr>\n",
              "    <tr>\n",
              "      <th>2</th>\n",
              "      <td>21.822968</td>\n",
              "      <td>0.629332</td>\n",
              "      <td>0.609198</td>\n",
              "      <td>0.021912</td>\n",
              "      <td>80</td>\n",
              "      <td>1</td>\n",
              "      <td>sqrt</td>\n",
              "      <td>4</td>\n",
              "      <td>entropy</td>\n",
              "      <td>False</td>\n",
              "      <td>{'n_estimators': 80, 'min_samples_leaf': 1, 'm...</td>\n",
              "      <td>0.951762</td>\n",
              "      <td>0.995980</td>\n",
              "      <td>0.956107</td>\n",
              "      <td>0.967950</td>\n",
              "      <td>0.019900</td>\n",
              "      <td>4</td>\n",
              "    </tr>\n",
              "    <tr>\n",
              "      <th>3</th>\n",
              "      <td>30.255117</td>\n",
              "      <td>1.341056</td>\n",
              "      <td>0.661840</td>\n",
              "      <td>0.032417</td>\n",
              "      <td>120</td>\n",
              "      <td>1</td>\n",
              "      <td>auto</td>\n",
              "      <td>8</td>\n",
              "      <td>gini</td>\n",
              "      <td>False</td>\n",
              "      <td>{'n_estimators': 120, 'min_samples_leaf': 1, '...</td>\n",
              "      <td>0.987349</td>\n",
              "      <td>0.999970</td>\n",
              "      <td>0.991251</td>\n",
              "      <td>0.992857</td>\n",
              "      <td>0.005276</td>\n",
              "      <td>1</td>\n",
              "    </tr>\n",
              "    <tr>\n",
              "      <th>4</th>\n",
              "      <td>17.368816</td>\n",
              "      <td>0.417031</td>\n",
              "      <td>0.624850</td>\n",
              "      <td>0.059460</td>\n",
              "      <td>100</td>\n",
              "      <td>1</td>\n",
              "      <td>sqrt</td>\n",
              "      <td>4</td>\n",
              "      <td>entropy</td>\n",
              "      <td>True</td>\n",
              "      <td>{'n_estimators': 100, 'min_samples_leaf': 1, '...</td>\n",
              "      <td>0.943101</td>\n",
              "      <td>0.995980</td>\n",
              "      <td>0.949486</td>\n",
              "      <td>0.962856</td>\n",
              "      <td>0.023567</td>\n",
              "      <td>5</td>\n",
              "    </tr>\n",
              "  </tbody>\n",
              "</table>\n",
              "</div>"
            ],
            "text/plain": [
              "   mean_fit_time  std_fit_time  mean_score_time  std_score_time  \\\n",
              "0      32.588144      0.844401         1.355897        0.094073   \n",
              "1      36.196470      1.319996         0.843442        0.028883   \n",
              "2      21.822968      0.629332         0.609198        0.021912   \n",
              "3      30.255117      1.341056         0.661840        0.032417   \n",
              "4      17.368816      0.417031         0.624850        0.059460   \n",
              "\n",
              "  param_n_estimators param_min_samples_leaf param_max_features  \\\n",
              "0                160                      4               sqrt   \n",
              "1                100                      1               auto   \n",
              "2                 80                      1               sqrt   \n",
              "3                120                      1               auto   \n",
              "4                100                      1               sqrt   \n",
              "\n",
              "  param_max_depth param_criterion param_bootstrap  \\\n",
              "0               6            gini            True   \n",
              "1               6         entropy           False   \n",
              "2               4         entropy           False   \n",
              "3               8            gini           False   \n",
              "4               4         entropy            True   \n",
              "\n",
              "                                              params  split0_test_score  \\\n",
              "0  {'n_estimators': 160, 'min_samples_leaf': 4, '...           0.977950   \n",
              "1  {'n_estimators': 100, 'min_samples_leaf': 1, '...           0.974314   \n",
              "2  {'n_estimators': 80, 'min_samples_leaf': 1, 'm...           0.951762   \n",
              "3  {'n_estimators': 120, 'min_samples_leaf': 1, '...           0.987349   \n",
              "4  {'n_estimators': 100, 'min_samples_leaf': 1, '...           0.943101   \n",
              "\n",
              "   split1_test_score  split2_test_score  mean_test_score  std_test_score  \\\n",
              "0           0.999941           0.972718         0.983536        0.011795   \n",
              "1           0.999970           0.963437         0.979241        0.015316   \n",
              "2           0.995980           0.956107         0.967950        0.019900   \n",
              "3           0.999970           0.991251         0.992857        0.005276   \n",
              "4           0.995980           0.949486         0.962856        0.023567   \n",
              "\n",
              "   rank_test_score  \n",
              "0                2  \n",
              "1                3  \n",
              "2                4  \n",
              "3                1  \n",
              "4                5  "
            ]
          },
          "execution_count": 52,
          "metadata": {},
          "output_type": "execute_result"
        }
      ],
      "source": [
        "pd.DataFrame(rcv.cv_results_)"
      ]
    },
    {
      "cell_type": "code",
      "execution_count": 53,
      "metadata": {
        "colab": {
          "base_uri": "https://localhost:8080/"
        },
        "id": "eqOvLS98J6KQ",
        "outputId": "4d1def75-23f3-4435-c460-a7dda7a98c55"
      },
      "outputs": [
        {
          "data": {
            "text/plain": [
              "{'n_estimators': 120,\n",
              " 'min_samples_leaf': 1,\n",
              " 'max_features': 'auto',\n",
              " 'max_depth': 8,\n",
              " 'criterion': 'gini',\n",
              " 'bootstrap': False}"
            ]
          },
          "execution_count": 53,
          "metadata": {},
          "output_type": "execute_result"
        }
      ],
      "source": [
        "rcv.best_params_"
      ]
    },
    {
      "cell_type": "markdown",
      "metadata": {
        "id": "ebdlV_ixKcX-"
      },
      "source": [
        "# Resultados finais"
      ]
    },
    {
      "cell_type": "code",
      "execution_count": 54,
      "metadata": {
        "id": "N3PwHe0IKfQU"
      },
      "outputs": [],
      "source": [
        "rfn = RandomForestClassifier(**rcv.best_params_, random_state=SEED)\n",
        "\n",
        "model = rfn.fit(x_train, y_train)\n",
        "y_pred = rfn.predict(x_test)"
      ]
    },
    {
      "cell_type": "code",
      "execution_count": 55,
      "metadata": {
        "colab": {
          "base_uri": "https://localhost:8080/"
        },
        "id": "bDgu69xsLUte",
        "outputId": "1027ae4a-49c8-4c8b-e6e4-54987dd8c83c"
      },
      "outputs": [
        {
          "name": "stdout",
          "output_type": "stream",
          "text": [
            "Acurácia: 0.9898323119667383\n",
            "Precisão: 0.9872036426440571\n",
            "Recall: 0.9925019731649566\n",
            "F1: 0.989845717884131\n"
          ]
        }
      ],
      "source": [
        "print(\"Acurácia:\", metrics.accuracy_score(y_test, y_pred))\n",
        "print(\"Precisão:\", metrics.precision_score(y_test, y_pred))\n",
        "print(\"Recall:\", metrics.recall_score(y_test, y_pred))\n",
        "print(\"F1:\", metrics.f1_score(y_test, y_pred))"
      ]
    },
    {
      "cell_type": "code",
      "execution_count": 56,
      "metadata": {
        "colab": {
          "base_uri": "https://localhost:8080/",
          "height": 515
        },
        "id": "ddcxV7UvLVyY",
        "outputId": "c0843c6c-d07f-42e1-9af5-00f9c010af46"
      },
      "outputs": [
        {
          "data": {
            "text/plain": [
              "<sklearn.metrics._plot.confusion_matrix.ConfusionMatrixDisplay at 0x1b6080f5fa0>"
            ]
          },
          "execution_count": 56,
          "metadata": {},
          "output_type": "execute_result"
        },
        {
          "data": {
            "image/png": "[encoded data removed]",
            "text/plain": [
              "<Figure size 864x576 with 2 Axes>"
            ]
          },
          "metadata": {
            "needs_background": "light"
          },
          "output_type": "display_data"
        }
      ],
      "source": [
        "cm = confusion_matrix(y_test, y_pred)\n",
        "disp = ConfusionMatrixDisplay(confusion_matrix=cm)\n",
        "disp.plot()"
      ]
    },
    {
      "cell_type": "code",
      "execution_count": 57,
      "metadata": {
        "colab": {
          "base_uri": "https://localhost:8080/",
          "height": 500
        },
        "id": "3OYBgZxALfpW",
        "outputId": "68cca846-e2c5-4822-a24a-a0ea159bd802"
      },
      "outputs": [
        {
          "data": {
            "text/plain": [
              "<matplotlib.legend.Legend at 0x1b60584f520>"
            ]
          },
          "execution_count": 57,
          "metadata": {},
          "output_type": "execute_result"
        },
        {
          "data": {
            "image/png": "[encoded data removed]",
            "text/plain": [
              "<Figure size 864x576 with 1 Axes>"
            ]
          },
          "metadata": {
            "needs_background": "light"
          },
          "output_type": "display_data"
        }
      ],
      "source": [
        "y_pred_proba = rfn.predict_proba(x_test)[::,1]\n",
        "fpr, tpr, _ = metrics.roc_curve(y_test, y_pred_proba)\n",
        "auc = metrics.roc_auc_score(y_test, y_pred_proba)\n",
        "\n",
        "plt.rcParams['figure.figsize'] = (12., 8.)\n",
        "plt.plot(fpr, tpr, label=\"LR, auc=\"+str(auc))\n",
        "plt.plot([0,1], [0,1], color='red', lw=2, linestyle='--')\n",
        "plt.legend(loc=4)"
      ]
    },
    {
      "cell_type": "markdown",
      "metadata": {
        "id": "aE46bXmxMzzu"
      },
      "source": [
        "# Conclusão"
      ]
    },
    {
      "attachments": {},
      "cell_type": "markdown",
      "metadata": {
        "id": "5U7M8cfzM3rB"
      },
      "source": [
        "• O(a) cliente tem um certo padrão de movimentação do dinheiro, em horário comercial, e a fraude ocorreu fora deste horário, como por exemplo durante a madrugada.\n",
        "\n",
        "• Ainda em relação ao tempo, o cliente pode fazer suas principais movimentações em um período inicial do mês e a fraude foi vista em um dia não habitual.\n",
        "\n",
        "      - Fazer um CAPTCHA para aumentar a segurança em horários não convencionais.\n",
        "\n",
        "• O(a) cliente utiliza como padrão o pagamento em dinheiro, seja por PIX ou retirada*, e a fraude pode ocorrer por um pagamento por transferência.\n",
        "\n",
        "      - Solicitar uma verificação de informação adicional do banco, como uma pergunta de segurança, para movimentações de transferência."
      ]
    }
  ],
  "metadata": {
    "colab": {
      "provenance": []
    },
    "kernelspec": {
      "display_name": "Python 3",
      "name": "python3"
    },
    "language_info": {
      "codemirror_mode": {
        "name": "ipython",
        "version": 3
      },
      "file_extension": ".py",
      "mimetype": "text/x-python",
      "name": "python",
      "nbconvert_exporter": "python",
      "pygments_lexer": "ipython3",
      "version": "3.9.12"
    },
    "widgets": {
      "application/vnd.jupyter.widget-state+json": {
        "04d5f555294249c4a79112b2a2068dc1": {
          "model_module": "@jupyter-widgets/controls",
          "model_module_version": "1.5.0",
          "model_name": "HTMLModel",
          "state": {
            "_dom_classes": [],
            "_model_module": "@jupyter-widgets/controls",
            "_model_module_version": "1.5.0",
            "_model_name": "HTMLModel",
            "_view_count": null,
            "_view_module": "@jupyter-widgets/controls",
            "_view_module_version": "1.5.0",
            "_view_name": "HTMLView",
            "description": "",
            "description_tooltip": null,
            "layout": "IPY_MODEL_d5d65d07b840470f986a60658d87031d",
            "placeholder": "​",
            "style": "IPY_MODEL_100379495a434e04aa2e0d5a56dfbf64",
            "value": " 57/57 [00:35&lt;00:00,  5.40it/s, Completed]"
          }
        },
        "05009f03af7746a79939bde868bc358f": {
          "model_module": "@jupyter-widgets/base",
          "model_module_version": "1.2.0",
          "model_name": "LayoutModel",
          "state": {
            "_model_module": "@jupyter-widgets/base",
            "_model_module_version": "1.2.0",
            "_model_name": "LayoutModel",
            "_view_count": null,
            "_view_module": "@jupyter-widgets/base",
            "_view_module_version": "1.2.0",
            "_view_name": "LayoutView",
            "align_content": null,
            "align_items": null,
            "align_self": null,
            "border": null,
            "bottom": null,
            "display": null,
            "flex": null,
            "flex_flow": null,
            "grid_area": null,
            "grid_auto_columns": null,
            "grid_auto_flow": null,
            "grid_auto_rows": null,
            "grid_column": null,
            "grid_gap": null,
            "grid_row": null,
            "grid_template_areas": null,
            "grid_template_columns": null,
            "grid_template_rows": null,
            "height": null,
            "justify_content": null,
            "justify_items": null,
            "left": null,
            "margin": null,
            "max_height": null,
            "max_width": null,
            "min_height": null,
            "min_width": null,
            "object_fit": null,
            "object_position": null,
            "order": null,
            "overflow": null,
            "overflow_x": null,
            "overflow_y": null,
            "padding": null,
            "right": null,
            "top": null,
            "visibility": null,
            "width": null
          }
        },
        "06bb3e6891874ea7b1b3fcea8b2bcd4c": {
          "model_module": "@jupyter-widgets/controls",
          "model_module_version": "1.5.0",
          "model_name": "HBoxModel",
          "state": {
            "_dom_classes": [],
            "_model_module": "@jupyter-widgets/controls",
            "_model_module_version": "1.5.0",
            "_model_name": "HBoxModel",
            "_view_count": null,
            "_view_module": "@jupyter-widgets/controls",
            "_view_module_version": "1.5.0",
            "_view_name": "HBoxView",
            "box_style": "",
            "children": [
              "IPY_MODEL_b9b10f8db7b44281ab82db7577fdf1db",
              "IPY_MODEL_1ae7513605ef43d29ee8fd9d9b3668bd",
              "IPY_MODEL_8344e86d05bf4711abe50cfce14c1b35"
            ],
            "layout": "IPY_MODEL_cc297384e74e424ea3cb2e83e5827337"
          }
        },
        "06ecd6146dd3441a91d06037ef812654": {
          "model_module": "@jupyter-widgets/controls",
          "model_module_version": "1.5.0",
          "model_name": "FloatProgressModel",
          "state": {
            "_dom_classes": [],
            "_model_module": "@jupyter-widgets/controls",
            "_model_module_version": "1.5.0",
            "_model_name": "FloatProgressModel",
            "_view_count": null,
            "_view_module": "@jupyter-widgets/controls",
            "_view_module_version": "1.5.0",
            "_view_name": "ProgressView",
            "bar_style": "success",
            "description": "",
            "description_tooltip": null,
            "layout": "IPY_MODEL_a17d92fec4d34502a734ffa44f9ab150",
            "max": 1,
            "min": 0,
            "orientation": "horizontal",
            "style": "IPY_MODEL_0883e55e804d4423991d84d45256c480",
            "value": 1
          }
        },
        "0883e55e804d4423991d84d45256c480": {
          "model_module": "@jupyter-widgets/controls",
          "model_module_version": "1.5.0",
          "model_name": "ProgressStyleModel",
          "state": {
            "_model_module": "@jupyter-widgets/controls",
            "_model_module_version": "1.5.0",
            "_model_name": "ProgressStyleModel",
            "_view_count": null,
            "_view_module": "@jupyter-widgets/base",
            "_view_module_version": "1.2.0",
            "_view_name": "StyleView",
            "bar_color": null,
            "description_width": ""
          }
        },
        "09852a9d61f64b199e2b085b97c9a307": {
          "model_module": "@jupyter-widgets/controls",
          "model_module_version": "1.5.0",
          "model_name": "HTMLModel",
          "state": {
            "_dom_classes": [],
            "_model_module": "@jupyter-widgets/controls",
            "_model_module_version": "1.5.0",
            "_model_name": "HTMLModel",
            "_view_count": null,
            "_view_module": "@jupyter-widgets/controls",
            "_view_module_version": "1.5.0",
            "_view_name": "HTMLView",
            "description": "",
            "description_tooltip": null,
            "layout": "IPY_MODEL_5565129075894f65a3dddf752f0d89c9",
            "placeholder": "​",
            "style": "IPY_MODEL_1ef6212a096f43d5a777188bed739eaa",
            "value": "Summarize dataset: 100%"
          }
        },
        "100379495a434e04aa2e0d5a56dfbf64": {
          "model_module": "@jupyter-widgets/controls",
          "model_module_version": "1.5.0",
          "model_name": "DescriptionStyleModel",
          "state": {
            "_model_module": "@jupyter-widgets/controls",
            "_model_module_version": "1.5.0",
            "_model_name": "DescriptionStyleModel",
            "_view_count": null,
            "_view_module": "@jupyter-widgets/base",
            "_view_module_version": "1.2.0",
            "_view_name": "StyleView",
            "description_width": ""
          }
        },
        "104a858b4ea248388ee10aa153a60a0a": {
          "model_module": "@jupyter-widgets/base",
          "model_module_version": "1.2.0",
          "model_name": "LayoutModel",
          "state": {
            "_model_module": "@jupyter-widgets/base",
            "_model_module_version": "1.2.0",
            "_model_name": "LayoutModel",
            "_view_count": null,
            "_view_module": "@jupyter-widgets/base",
            "_view_module_version": "1.2.0",
            "_view_name": "LayoutView",
            "align_content": null,
            "align_items": null,
            "align_self": null,
            "border": null,
            "bottom": null,
            "display": null,
            "flex": null,
            "flex_flow": null,
            "grid_area": null,
            "grid_auto_columns": null,
            "grid_auto_flow": null,
            "grid_auto_rows": null,
            "grid_column": null,
            "grid_gap": null,
            "grid_row": null,
            "grid_template_areas": null,
            "grid_template_columns": null,
            "grid_template_rows": null,
            "height": null,
            "justify_content": null,
            "justify_items": null,
            "left": null,
            "margin": null,
            "max_height": null,
            "max_width": null,
            "min_height": null,
            "min_width": null,
            "object_fit": null,
            "object_position": null,
            "order": null,
            "overflow": null,
            "overflow_x": null,
            "overflow_y": null,
            "padding": null,
            "right": null,
            "top": null,
            "visibility": null,
            "width": null
          }
        },
        "16057b29865d4d6c8160a053c2c8f979": {
          "model_module": "@jupyter-widgets/controls",
          "model_module_version": "1.5.0",
          "model_name": "DescriptionStyleModel",
          "state": {
            "_model_module": "@jupyter-widgets/controls",
            "_model_module_version": "1.5.0",
            "_model_name": "DescriptionStyleModel",
            "_view_count": null,
            "_view_module": "@jupyter-widgets/base",
            "_view_module_version": "1.2.0",
            "_view_name": "StyleView",
            "description_width": ""
          }
        },
        "16bc7ce1bf7a4c8890de25a9e8330af9": {
          "model_module": "@jupyter-widgets/controls",
          "model_module_version": "1.5.0",
          "model_name": "HTMLModel",
          "state": {
            "_dom_classes": [],
            "_model_module": "@jupyter-widgets/controls",
            "_model_module_version": "1.5.0",
            "_model_name": "HTMLModel",
            "_view_count": null,
            "_view_module": "@jupyter-widgets/controls",
            "_view_module_version": "1.5.0",
            "_view_name": "HTMLView",
            "description": "",
            "description_tooltip": null,
            "layout": "IPY_MODEL_38de1ee0872f4f9b940e8cdb9f764d5d",
            "placeholder": "​",
            "style": "IPY_MODEL_bdedfe49e1724886b0d40ddd66df6f07",
            "value": " 56/56 [00:29&lt;00:00,  1.51it/s, Completed]"
          }
        },
        "1ae7513605ef43d29ee8fd9d9b3668bd": {
          "model_module": "@jupyter-widgets/controls",
          "model_module_version": "1.5.0",
          "model_name": "FloatProgressModel",
          "state": {
            "_dom_classes": [],
            "_model_module": "@jupyter-widgets/controls",
            "_model_module_version": "1.5.0",
            "_model_name": "FloatProgressModel",
            "_view_count": null,
            "_view_module": "@jupyter-widgets/controls",
            "_view_module_version": "1.5.0",
            "_view_name": "ProgressView",
            "bar_style": "success",
            "description": "",
            "description_tooltip": null,
            "layout": "IPY_MODEL_26bff1272e6b4f43a53c2cd66b7234f5",
            "max": 1,
            "min": 0,
            "orientation": "horizontal",
            "style": "IPY_MODEL_331aeba441d0403da6443e047c29acc0",
            "value": 1
          }
        },
        "1b392f4d71f044708bc7aac2cf7ef836": {
          "model_module": "@jupyter-widgets/controls",
          "model_module_version": "1.5.0",
          "model_name": "DescriptionStyleModel",
          "state": {
            "_model_module": "@jupyter-widgets/controls",
            "_model_module_version": "1.5.0",
            "_model_name": "DescriptionStyleModel",
            "_view_count": null,
            "_view_module": "@jupyter-widgets/base",
            "_view_module_version": "1.2.0",
            "_view_name": "StyleView",
            "description_width": ""
          }
        },
        "1e96d21335794a8a90b2c1fcb110ca6f": {
          "model_module": "@jupyter-widgets/base",
          "model_module_version": "1.2.0",
          "model_name": "LayoutModel",
          "state": {
            "_model_module": "@jupyter-widgets/base",
            "_model_module_version": "1.2.0",
            "_model_name": "LayoutModel",
            "_view_count": null,
            "_view_module": "@jupyter-widgets/base",
            "_view_module_version": "1.2.0",
            "_view_name": "LayoutView",
            "align_content": null,
            "align_items": null,
            "align_self": null,
            "border": null,
            "bottom": null,
            "display": null,
            "flex": null,
            "flex_flow": null,
            "grid_area": null,
            "grid_auto_columns": null,
            "grid_auto_flow": null,
            "grid_auto_rows": null,
            "grid_column": null,
            "grid_gap": null,
            "grid_row": null,
            "grid_template_areas": null,
            "grid_template_columns": null,
            "grid_template_rows": null,
            "height": null,
            "justify_content": null,
            "justify_items": null,
            "left": null,
            "margin": null,
            "max_height": null,
            "max_width": null,
            "min_height": null,
            "min_width": null,
            "object_fit": null,
            "object_position": null,
            "order": null,
            "overflow": null,
            "overflow_x": null,
            "overflow_y": null,
            "padding": null,
            "right": null,
            "top": null,
            "visibility": null,
            "width": null
          }
        },
        "1ef6212a096f43d5a777188bed739eaa": {
          "model_module": "@jupyter-widgets/controls",
          "model_module_version": "1.5.0",
          "model_name": "DescriptionStyleModel",
          "state": {
            "_model_module": "@jupyter-widgets/controls",
            "_model_module_version": "1.5.0",
            "_model_name": "DescriptionStyleModel",
            "_view_count": null,
            "_view_module": "@jupyter-widgets/base",
            "_view_module_version": "1.2.0",
            "_view_name": "StyleView",
            "description_width": ""
          }
        },
        "20ee8445e6324fde8aac3d3da0c78750": {
          "model_module": "@jupyter-widgets/base",
          "model_module_version": "1.2.0",
          "model_name": "LayoutModel",
          "state": {
            "_model_module": "@jupyter-widgets/base",
            "_model_module_version": "1.2.0",
            "_model_name": "LayoutModel",
            "_view_count": null,
            "_view_module": "@jupyter-widgets/base",
            "_view_module_version": "1.2.0",
            "_view_name": "LayoutView",
            "align_content": null,
            "align_items": null,
            "align_self": null,
            "border": null,
            "bottom": null,
            "display": null,
            "flex": null,
            "flex_flow": null,
            "grid_area": null,
            "grid_auto_columns": null,
            "grid_auto_flow": null,
            "grid_auto_rows": null,
            "grid_column": null,
            "grid_gap": null,
            "grid_row": null,
            "grid_template_areas": null,
            "grid_template_columns": null,
            "grid_template_rows": null,
            "height": null,
            "justify_content": null,
            "justify_items": null,
            "left": null,
            "margin": null,
            "max_height": null,
            "max_width": null,
            "min_height": null,
            "min_width": null,
            "object_fit": null,
            "object_position": null,
            "order": null,
            "overflow": null,
            "overflow_x": null,
            "overflow_y": null,
            "padding": null,
            "right": null,
            "top": null,
            "visibility": null,
            "width": null
          }
        },
        "223158e81f234cd99271234d30a177a2": {
          "model_module": "@jupyter-widgets/controls",
          "model_module_version": "1.5.0",
          "model_name": "DescriptionStyleModel",
          "state": {
            "_model_module": "@jupyter-widgets/controls",
            "_model_module_version": "1.5.0",
            "_model_name": "DescriptionStyleModel",
            "_view_count": null,
            "_view_module": "@jupyter-widgets/base",
            "_view_module_version": "1.2.0",
            "_view_name": "StyleView",
            "description_width": ""
          }
        },
        "26bff1272e6b4f43a53c2cd66b7234f5": {
          "model_module": "@jupyter-widgets/base",
          "model_module_version": "1.2.0",
          "model_name": "LayoutModel",
          "state": {
            "_model_module": "@jupyter-widgets/base",
            "_model_module_version": "1.2.0",
            "_model_name": "LayoutModel",
            "_view_count": null,
            "_view_module": "@jupyter-widgets/base",
            "_view_module_version": "1.2.0",
            "_view_name": "LayoutView",
            "align_content": null,
            "align_items": null,
            "align_self": null,
            "border": null,
            "bottom": null,
            "display": null,
            "flex": null,
            "flex_flow": null,
            "grid_area": null,
            "grid_auto_columns": null,
            "grid_auto_flow": null,
            "grid_auto_rows": null,
            "grid_column": null,
            "grid_gap": null,
            "grid_row": null,
            "grid_template_areas": null,
            "grid_template_columns": null,
            "grid_template_rows": null,
            "height": null,
            "justify_content": null,
            "justify_items": null,
            "left": null,
            "margin": null,
            "max_height": null,
            "max_width": null,
            "min_height": null,
            "min_width": null,
            "object_fit": null,
            "object_position": null,
            "order": null,
            "overflow": null,
            "overflow_x": null,
            "overflow_y": null,
            "padding": null,
            "right": null,
            "top": null,
            "visibility": null,
            "width": null
          }
        },
        "288516a17e3a4e4b8f0bf42b8441c698": {
          "model_module": "@jupyter-widgets/controls",
          "model_module_version": "1.5.0",
          "model_name": "HBoxModel",
          "state": {
            "_dom_classes": [],
            "_model_module": "@jupyter-widgets/controls",
            "_model_module_version": "1.5.0",
            "_model_name": "HBoxModel",
            "_view_count": null,
            "_view_module": "@jupyter-widgets/controls",
            "_view_module_version": "1.5.0",
            "_view_name": "HBoxView",
            "box_style": "",
            "children": [
              "IPY_MODEL_a1d88ae0664944e4be568659f127c3b4",
              "IPY_MODEL_f799c739c3a74db48e38181feedfc3b3",
              "IPY_MODEL_fd34a5f97c704ba6bcaa5af4ed23971c"
            ],
            "layout": "IPY_MODEL_b66b8f5bcfeb4382867b9c4c6404a8f7"
          }
        },
        "331aeba441d0403da6443e047c29acc0": {
          "model_module": "@jupyter-widgets/controls",
          "model_module_version": "1.5.0",
          "model_name": "ProgressStyleModel",
          "state": {
            "_model_module": "@jupyter-widgets/controls",
            "_model_module_version": "1.5.0",
            "_model_name": "ProgressStyleModel",
            "_view_count": null,
            "_view_module": "@jupyter-widgets/base",
            "_view_module_version": "1.2.0",
            "_view_name": "StyleView",
            "bar_color": null,
            "description_width": ""
          }
        },
        "38de1ee0872f4f9b940e8cdb9f764d5d": {
          "model_module": "@jupyter-widgets/base",
          "model_module_version": "1.2.0",
          "model_name": "LayoutModel",
          "state": {
            "_model_module": "@jupyter-widgets/base",
            "_model_module_version": "1.2.0",
            "_model_name": "LayoutModel",
            "_view_count": null,
            "_view_module": "@jupyter-widgets/base",
            "_view_module_version": "1.2.0",
            "_view_name": "LayoutView",
            "align_content": null,
            "align_items": null,
            "align_self": null,
            "border": null,
            "bottom": null,
            "display": null,
            "flex": null,
            "flex_flow": null,
            "grid_area": null,
            "grid_auto_columns": null,
            "grid_auto_flow": null,
            "grid_auto_rows": null,
            "grid_column": null,
            "grid_gap": null,
            "grid_row": null,
            "grid_template_areas": null,
            "grid_template_columns": null,
            "grid_template_rows": null,
            "height": null,
            "justify_content": null,
            "justify_items": null,
            "left": null,
            "margin": null,
            "max_height": null,
            "max_width": null,
            "min_height": null,
            "min_width": null,
            "object_fit": null,
            "object_position": null,
            "order": null,
            "overflow": null,
            "overflow_x": null,
            "overflow_y": null,
            "padding": null,
            "right": null,
            "top": null,
            "visibility": null,
            "width": null
          }
        },
        "3b8d6acd849f420cb77c640a9be64f88": {
          "model_module": "@jupyter-widgets/controls",
          "model_module_version": "1.5.0",
          "model_name": "HBoxModel",
          "state": {
            "_dom_classes": [],
            "_model_module": "@jupyter-widgets/controls",
            "_model_module_version": "1.5.0",
            "_model_name": "HBoxModel",
            "_view_count": null,
            "_view_module": "@jupyter-widgets/controls",
            "_view_module_version": "1.5.0",
            "_view_name": "HBoxView",
            "box_style": "",
            "children": [
              "IPY_MODEL_09852a9d61f64b199e2b085b97c9a307",
              "IPY_MODEL_65a57ec59c304ec9b1009b9e94911bcd",
              "IPY_MODEL_16bc7ce1bf7a4c8890de25a9e8330af9"
            ],
            "layout": "IPY_MODEL_dc9e982069a84844b894c75f7e344376"
          }
        },
        "45ab9ad447c242308f85bd3ff941afef": {
          "model_module": "@jupyter-widgets/controls",
          "model_module_version": "1.5.0",
          "model_name": "HTMLModel",
          "state": {
            "_dom_classes": [],
            "_model_module": "@jupyter-widgets/controls",
            "_model_module_version": "1.5.0",
            "_model_name": "HTMLModel",
            "_view_count": null,
            "_view_module": "@jupyter-widgets/controls",
            "_view_module_version": "1.5.0",
            "_view_name": "HTMLView",
            "description": "",
            "description_tooltip": null,
            "layout": "IPY_MODEL_9ea53ddeb19a4418b94f837964dd9642",
            "placeholder": "​",
            "style": "IPY_MODEL_223158e81f234cd99271234d30a177a2",
            "value": "Render HTML: 100%"
          }
        },
        "462f1ef0d18d4106bc96a4dfc919ec58": {
          "model_module": "@jupyter-widgets/base",
          "model_module_version": "1.2.0",
          "model_name": "LayoutModel",
          "state": {
            "_model_module": "@jupyter-widgets/base",
            "_model_module_version": "1.2.0",
            "_model_name": "LayoutModel",
            "_view_count": null,
            "_view_module": "@jupyter-widgets/base",
            "_view_module_version": "1.2.0",
            "_view_name": "LayoutView",
            "align_content": null,
            "align_items": null,
            "align_self": null,
            "border": null,
            "bottom": null,
            "display": null,
            "flex": null,
            "flex_flow": null,
            "grid_area": null,
            "grid_auto_columns": null,
            "grid_auto_flow": null,
            "grid_auto_rows": null,
            "grid_column": null,
            "grid_gap": null,
            "grid_row": null,
            "grid_template_areas": null,
            "grid_template_columns": null,
            "grid_template_rows": null,
            "height": null,
            "justify_content": null,
            "justify_items": null,
            "left": null,
            "margin": null,
            "max_height": null,
            "max_width": null,
            "min_height": null,
            "min_width": null,
            "object_fit": null,
            "object_position": null,
            "order": null,
            "overflow": null,
            "overflow_x": null,
            "overflow_y": null,
            "padding": null,
            "right": null,
            "top": null,
            "visibility": null,
            "width": null
          }
        },
        "47bc71333daa4a4f821651b3c13009cd": {
          "model_module": "@jupyter-widgets/controls",
          "model_module_version": "1.5.0",
          "model_name": "DescriptionStyleModel",
          "state": {
            "_model_module": "@jupyter-widgets/controls",
            "_model_module_version": "1.5.0",
            "_model_name": "DescriptionStyleModel",
            "_view_count": null,
            "_view_module": "@jupyter-widgets/base",
            "_view_module_version": "1.2.0",
            "_view_name": "StyleView",
            "description_width": ""
          }
        },
        "4a4545470c6744f5b405f707118c0224": {
          "model_module": "@jupyter-widgets/controls",
          "model_module_version": "1.5.0",
          "model_name": "HBoxModel",
          "state": {
            "_dom_classes": [],
            "_model_module": "@jupyter-widgets/controls",
            "_model_module_version": "1.5.0",
            "_model_name": "HBoxModel",
            "_view_count": null,
            "_view_module": "@jupyter-widgets/controls",
            "_view_module_version": "1.5.0",
            "_view_name": "HBoxView",
            "box_style": "",
            "children": [
              "IPY_MODEL_7ab64f15db99455ab398c0aa15e18b22",
              "IPY_MODEL_996cff594dd842f2ac5ef62f390ff6df",
              "IPY_MODEL_d57b0782cae240c9b5ea05a29e89b2c1"
            ],
            "layout": "IPY_MODEL_caacd86c8461478e86e4df4a96dc3ae8"
          }
        },
        "4de8a8efff7e4a54b8c7807cc4f8d0fa": {
          "model_module": "@jupyter-widgets/controls",
          "model_module_version": "1.5.0",
          "model_name": "HBoxModel",
          "state": {
            "_dom_classes": [],
            "_model_module": "@jupyter-widgets/controls",
            "_model_module_version": "1.5.0",
            "_model_name": "HBoxModel",
            "_view_count": null,
            "_view_module": "@jupyter-widgets/controls",
            "_view_module_version": "1.5.0",
            "_view_name": "HBoxView",
            "box_style": "",
            "children": [
              "IPY_MODEL_45ab9ad447c242308f85bd3ff941afef",
              "IPY_MODEL_06ecd6146dd3441a91d06037ef812654",
              "IPY_MODEL_b7992a30c7744620a29b73f7617f07f2"
            ],
            "layout": "IPY_MODEL_05009f03af7746a79939bde868bc358f"
          }
        },
        "5565129075894f65a3dddf752f0d89c9": {
          "model_module": "@jupyter-widgets/base",
          "model_module_version": "1.2.0",
          "model_name": "LayoutModel",
          "state": {
            "_model_module": "@jupyter-widgets/base",
            "_model_module_version": "1.2.0",
            "_model_name": "LayoutModel",
            "_view_count": null,
            "_view_module": "@jupyter-widgets/base",
            "_view_module_version": "1.2.0",
            "_view_name": "LayoutView",
            "align_content": null,
            "align_items": null,
            "align_self": null,
            "border": null,
            "bottom": null,
            "display": null,
            "flex": null,
            "flex_flow": null,
            "grid_area": null,
            "grid_auto_columns": null,
            "grid_auto_flow": null,
            "grid_auto_rows": null,
            "grid_column": null,
            "grid_gap": null,
            "grid_row": null,
            "grid_template_areas": null,
            "grid_template_columns": null,
            "grid_template_rows": null,
            "height": null,
            "justify_content": null,
            "justify_items": null,
            "left": null,
            "margin": null,
            "max_height": null,
            "max_width": null,
            "min_height": null,
            "min_width": null,
            "object_fit": null,
            "object_position": null,
            "order": null,
            "overflow": null,
            "overflow_x": null,
            "overflow_y": null,
            "padding": null,
            "right": null,
            "top": null,
            "visibility": null,
            "width": null
          }
        },
        "60d3742042e246babf98b252772d6f64": {
          "model_module": "@jupyter-widgets/controls",
          "model_module_version": "1.5.0",
          "model_name": "DescriptionStyleModel",
          "state": {
            "_model_module": "@jupyter-widgets/controls",
            "_model_module_version": "1.5.0",
            "_model_name": "DescriptionStyleModel",
            "_view_count": null,
            "_view_module": "@jupyter-widgets/base",
            "_view_module_version": "1.2.0",
            "_view_name": "StyleView",
            "description_width": ""
          }
        },
        "621af93e43d842ad9c9c3aeee310ab18": {
          "model_module": "@jupyter-widgets/base",
          "model_module_version": "1.2.0",
          "model_name": "LayoutModel",
          "state": {
            "_model_module": "@jupyter-widgets/base",
            "_model_module_version": "1.2.0",
            "_model_name": "LayoutModel",
            "_view_count": null,
            "_view_module": "@jupyter-widgets/base",
            "_view_module_version": "1.2.0",
            "_view_name": "LayoutView",
            "align_content": null,
            "align_items": null,
            "align_self": null,
            "border": null,
            "bottom": null,
            "display": null,
            "flex": null,
            "flex_flow": null,
            "grid_area": null,
            "grid_auto_columns": null,
            "grid_auto_flow": null,
            "grid_auto_rows": null,
            "grid_column": null,
            "grid_gap": null,
            "grid_row": null,
            "grid_template_areas": null,
            "grid_template_columns": null,
            "grid_template_rows": null,
            "height": null,
            "justify_content": null,
            "justify_items": null,
            "left": null,
            "margin": null,
            "max_height": null,
            "max_width": null,
            "min_height": null,
            "min_width": null,
            "object_fit": null,
            "object_position": null,
            "order": null,
            "overflow": null,
            "overflow_x": null,
            "overflow_y": null,
            "padding": null,
            "right": null,
            "top": null,
            "visibility": null,
            "width": null
          }
        },
        "65a57ec59c304ec9b1009b9e94911bcd": {
          "model_module": "@jupyter-widgets/controls",
          "model_module_version": "1.5.0",
          "model_name": "FloatProgressModel",
          "state": {
            "_dom_classes": [],
            "_model_module": "@jupyter-widgets/controls",
            "_model_module_version": "1.5.0",
            "_model_name": "FloatProgressModel",
            "_view_count": null,
            "_view_module": "@jupyter-widgets/controls",
            "_view_module_version": "1.5.0",
            "_view_name": "ProgressView",
            "bar_style": "success",
            "description": "",
            "description_tooltip": null,
            "layout": "IPY_MODEL_ca9ad3c94e934cc382bb086237bb041c",
            "max": 5,
            "min": 0,
            "orientation": "horizontal",
            "style": "IPY_MODEL_940d1ec4d75b4968b912e76eb4eea21b",
            "value": 5
          }
        },
        "6b93e87503d548ef9afff9c261969a7e": {
          "model_module": "@jupyter-widgets/base",
          "model_module_version": "1.2.0",
          "model_name": "LayoutModel",
          "state": {
            "_model_module": "@jupyter-widgets/base",
            "_model_module_version": "1.2.0",
            "_model_name": "LayoutModel",
            "_view_count": null,
            "_view_module": "@jupyter-widgets/base",
            "_view_module_version": "1.2.0",
            "_view_name": "LayoutView",
            "align_content": null,
            "align_items": null,
            "align_self": null,
            "border": null,
            "bottom": null,
            "display": null,
            "flex": null,
            "flex_flow": null,
            "grid_area": null,
            "grid_auto_columns": null,
            "grid_auto_flow": null,
            "grid_auto_rows": null,
            "grid_column": null,
            "grid_gap": null,
            "grid_row": null,
            "grid_template_areas": null,
            "grid_template_columns": null,
            "grid_template_rows": null,
            "height": null,
            "justify_content": null,
            "justify_items": null,
            "left": null,
            "margin": null,
            "max_height": null,
            "max_width": null,
            "min_height": null,
            "min_width": null,
            "object_fit": null,
            "object_position": null,
            "order": null,
            "overflow": null,
            "overflow_x": null,
            "overflow_y": null,
            "padding": null,
            "right": null,
            "top": null,
            "visibility": null,
            "width": null
          }
        },
        "730149d3e2a14468aef201a133777542": {
          "model_module": "@jupyter-widgets/controls",
          "model_module_version": "1.5.0",
          "model_name": "ProgressStyleModel",
          "state": {
            "_model_module": "@jupyter-widgets/controls",
            "_model_module_version": "1.5.0",
            "_model_name": "ProgressStyleModel",
            "_view_count": null,
            "_view_module": "@jupyter-widgets/base",
            "_view_module_version": "1.2.0",
            "_view_name": "StyleView",
            "bar_color": null,
            "description_width": ""
          }
        },
        "7ab64f15db99455ab398c0aa15e18b22": {
          "model_module": "@jupyter-widgets/controls",
          "model_module_version": "1.5.0",
          "model_name": "HTMLModel",
          "state": {
            "_dom_classes": [],
            "_model_module": "@jupyter-widgets/controls",
            "_model_module_version": "1.5.0",
            "_model_name": "HTMLModel",
            "_view_count": null,
            "_view_module": "@jupyter-widgets/controls",
            "_view_module_version": "1.5.0",
            "_view_name": "HTMLView",
            "description": "",
            "description_tooltip": null,
            "layout": "IPY_MODEL_b46ff347922741b995006d005698b019",
            "placeholder": "​",
            "style": "IPY_MODEL_ed5376d3d28c4c4f808c9d80054c3858",
            "value": "Generate report structure: 100%"
          }
        },
        "7d9cf80ca1b44927b14dfb87c703eda9": {
          "model_module": "@jupyter-widgets/controls",
          "model_module_version": "1.5.0",
          "model_name": "DescriptionStyleModel",
          "state": {
            "_model_module": "@jupyter-widgets/controls",
            "_model_module_version": "1.5.0",
            "_model_name": "DescriptionStyleModel",
            "_view_count": null,
            "_view_module": "@jupyter-widgets/base",
            "_view_module_version": "1.2.0",
            "_view_name": "StyleView",
            "description_width": ""
          }
        },
        "8344e86d05bf4711abe50cfce14c1b35": {
          "model_module": "@jupyter-widgets/controls",
          "model_module_version": "1.5.0",
          "model_name": "HTMLModel",
          "state": {
            "_dom_classes": [],
            "_model_module": "@jupyter-widgets/controls",
            "_model_module_version": "1.5.0",
            "_model_name": "HTMLModel",
            "_view_count": null,
            "_view_module": "@jupyter-widgets/controls",
            "_view_module_version": "1.5.0",
            "_view_name": "HTMLView",
            "description": "",
            "description_tooltip": null,
            "layout": "IPY_MODEL_8be33f0dd46c4d21af5542c729e08463",
            "placeholder": "​",
            "style": "IPY_MODEL_7d9cf80ca1b44927b14dfb87c703eda9",
            "value": " 1/1 [00:04&lt;00:00,  4.95s/it]"
          }
        },
        "8be33f0dd46c4d21af5542c729e08463": {
          "model_module": "@jupyter-widgets/base",
          "model_module_version": "1.2.0",
          "model_name": "LayoutModel",
          "state": {
            "_model_module": "@jupyter-widgets/base",
            "_model_module_version": "1.2.0",
            "_model_name": "LayoutModel",
            "_view_count": null,
            "_view_module": "@jupyter-widgets/base",
            "_view_module_version": "1.2.0",
            "_view_name": "LayoutView",
            "align_content": null,
            "align_items": null,
            "align_self": null,
            "border": null,
            "bottom": null,
            "display": null,
            "flex": null,
            "flex_flow": null,
            "grid_area": null,
            "grid_auto_columns": null,
            "grid_auto_flow": null,
            "grid_auto_rows": null,
            "grid_column": null,
            "grid_gap": null,
            "grid_row": null,
            "grid_template_areas": null,
            "grid_template_columns": null,
            "grid_template_rows": null,
            "height": null,
            "justify_content": null,
            "justify_items": null,
            "left": null,
            "margin": null,
            "max_height": null,
            "max_width": null,
            "min_height": null,
            "min_width": null,
            "object_fit": null,
            "object_position": null,
            "order": null,
            "overflow": null,
            "overflow_x": null,
            "overflow_y": null,
            "padding": null,
            "right": null,
            "top": null,
            "visibility": null,
            "width": null
          }
        },
        "932659dd499042d2a4b1ae7bdcd8b186": {
          "model_module": "@jupyter-widgets/controls",
          "model_module_version": "1.5.0",
          "model_name": "HTMLModel",
          "state": {
            "_dom_classes": [],
            "_model_module": "@jupyter-widgets/controls",
            "_model_module_version": "1.5.0",
            "_model_name": "HTMLModel",
            "_view_count": null,
            "_view_module": "@jupyter-widgets/controls",
            "_view_module_version": "1.5.0",
            "_view_name": "HTMLView",
            "description": "",
            "description_tooltip": null,
            "layout": "IPY_MODEL_ca4747e89c084bc19d4d06f5488a358a",
            "placeholder": "​",
            "style": "IPY_MODEL_a287635aa3044ac0aa307e5020277e4b",
            "value": "Summarize dataset: 100%"
          }
        },
        "940d1ec4d75b4968b912e76eb4eea21b": {
          "model_module": "@jupyter-widgets/controls",
          "model_module_version": "1.5.0",
          "model_name": "ProgressStyleModel",
          "state": {
            "_model_module": "@jupyter-widgets/controls",
            "_model_module_version": "1.5.0",
            "_model_name": "ProgressStyleModel",
            "_view_count": null,
            "_view_module": "@jupyter-widgets/base",
            "_view_module_version": "1.2.0",
            "_view_name": "StyleView",
            "bar_color": null,
            "description_width": ""
          }
        },
        "973f062a783542c48599404fbc056bdd": {
          "model_module": "@jupyter-widgets/controls",
          "model_module_version": "1.5.0",
          "model_name": "FloatProgressModel",
          "state": {
            "_dom_classes": [],
            "_model_module": "@jupyter-widgets/controls",
            "_model_module_version": "1.5.0",
            "_model_name": "FloatProgressModel",
            "_view_count": null,
            "_view_module": "@jupyter-widgets/controls",
            "_view_module_version": "1.5.0",
            "_view_name": "ProgressView",
            "bar_style": "success",
            "description": "",
            "description_tooltip": null,
            "layout": "IPY_MODEL_462f1ef0d18d4106bc96a4dfc919ec58",
            "max": 5,
            "min": 0,
            "orientation": "horizontal",
            "style": "IPY_MODEL_ca9e74fdf0024f02a8584bb9301f36ff",
            "value": 5
          }
        },
        "9812e551dc6e4fc89693340facd58cd7": {
          "model_module": "@jupyter-widgets/controls",
          "model_module_version": "1.5.0",
          "model_name": "HBoxModel",
          "state": {
            "_dom_classes": [],
            "_model_module": "@jupyter-widgets/controls",
            "_model_module_version": "1.5.0",
            "_model_name": "HBoxModel",
            "_view_count": null,
            "_view_module": "@jupyter-widgets/controls",
            "_view_module_version": "1.5.0",
            "_view_name": "HBoxView",
            "box_style": "",
            "children": [
              "IPY_MODEL_932659dd499042d2a4b1ae7bdcd8b186",
              "IPY_MODEL_973f062a783542c48599404fbc056bdd",
              "IPY_MODEL_04d5f555294249c4a79112b2a2068dc1"
            ],
            "layout": "IPY_MODEL_621af93e43d842ad9c9c3aeee310ab18"
          }
        },
        "996cff594dd842f2ac5ef62f390ff6df": {
          "model_module": "@jupyter-widgets/controls",
          "model_module_version": "1.5.0",
          "model_name": "FloatProgressModel",
          "state": {
            "_dom_classes": [],
            "_model_module": "@jupyter-widgets/controls",
            "_model_module_version": "1.5.0",
            "_model_name": "FloatProgressModel",
            "_view_count": null,
            "_view_module": "@jupyter-widgets/controls",
            "_view_module_version": "1.5.0",
            "_view_name": "ProgressView",
            "bar_style": "success",
            "description": "",
            "description_tooltip": null,
            "layout": "IPY_MODEL_1e96d21335794a8a90b2c1fcb110ca6f",
            "max": 1,
            "min": 0,
            "orientation": "horizontal",
            "style": "IPY_MODEL_730149d3e2a14468aef201a133777542",
            "value": 1
          }
        },
        "9ea53ddeb19a4418b94f837964dd9642": {
          "model_module": "@jupyter-widgets/base",
          "model_module_version": "1.2.0",
          "model_name": "LayoutModel",
          "state": {
            "_model_module": "@jupyter-widgets/base",
            "_model_module_version": "1.2.0",
            "_model_name": "LayoutModel",
            "_view_count": null,
            "_view_module": "@jupyter-widgets/base",
            "_view_module_version": "1.2.0",
            "_view_name": "LayoutView",
            "align_content": null,
            "align_items": null,
            "align_self": null,
            "border": null,
            "bottom": null,
            "display": null,
            "flex": null,
            "flex_flow": null,
            "grid_area": null,
            "grid_auto_columns": null,
            "grid_auto_flow": null,
            "grid_auto_rows": null,
            "grid_column": null,
            "grid_gap": null,
            "grid_row": null,
            "grid_template_areas": null,
            "grid_template_columns": null,
            "grid_template_rows": null,
            "height": null,
            "justify_content": null,
            "justify_items": null,
            "left": null,
            "margin": null,
            "max_height": null,
            "max_width": null,
            "min_height": null,
            "min_width": null,
            "object_fit": null,
            "object_position": null,
            "order": null,
            "overflow": null,
            "overflow_x": null,
            "overflow_y": null,
            "padding": null,
            "right": null,
            "top": null,
            "visibility": null,
            "width": null
          }
        },
        "a17d92fec4d34502a734ffa44f9ab150": {
          "model_module": "@jupyter-widgets/base",
          "model_module_version": "1.2.0",
          "model_name": "LayoutModel",
          "state": {
            "_model_module": "@jupyter-widgets/base",
            "_model_module_version": "1.2.0",
            "_model_name": "LayoutModel",
            "_view_count": null,
            "_view_module": "@jupyter-widgets/base",
            "_view_module_version": "1.2.0",
            "_view_name": "LayoutView",
            "align_content": null,
            "align_items": null,
            "align_self": null,
            "border": null,
            "bottom": null,
            "display": null,
            "flex": null,
            "flex_flow": null,
            "grid_area": null,
            "grid_auto_columns": null,
            "grid_auto_flow": null,
            "grid_auto_rows": null,
            "grid_column": null,
            "grid_gap": null,
            "grid_row": null,
            "grid_template_areas": null,
            "grid_template_columns": null,
            "grid_template_rows": null,
            "height": null,
            "justify_content": null,
            "justify_items": null,
            "left": null,
            "margin": null,
            "max_height": null,
            "max_width": null,
            "min_height": null,
            "min_width": null,
            "object_fit": null,
            "object_position": null,
            "order": null,
            "overflow": null,
            "overflow_x": null,
            "overflow_y": null,
            "padding": null,
            "right": null,
            "top": null,
            "visibility": null,
            "width": null
          }
        },
        "a1d88ae0664944e4be568659f127c3b4": {
          "model_module": "@jupyter-widgets/controls",
          "model_module_version": "1.5.0",
          "model_name": "HTMLModel",
          "state": {
            "_dom_classes": [],
            "_model_module": "@jupyter-widgets/controls",
            "_model_module_version": "1.5.0",
            "_model_name": "HTMLModel",
            "_view_count": null,
            "_view_module": "@jupyter-widgets/controls",
            "_view_module_version": "1.5.0",
            "_view_name": "HTMLView",
            "description": "",
            "description_tooltip": null,
            "layout": "IPY_MODEL_d20119fef5bd4dd9b9f9bff29304d2d7",
            "placeholder": "​",
            "style": "IPY_MODEL_de787ad647a94e949ac19a669eed3bb1",
            "value": "Render HTML: 100%"
          }
        },
        "a287635aa3044ac0aa307e5020277e4b": {
          "model_module": "@jupyter-widgets/controls",
          "model_module_version": "1.5.0",
          "model_name": "DescriptionStyleModel",
          "state": {
            "_model_module": "@jupyter-widgets/controls",
            "_model_module_version": "1.5.0",
            "_model_name": "DescriptionStyleModel",
            "_view_count": null,
            "_view_module": "@jupyter-widgets/base",
            "_view_module_version": "1.2.0",
            "_view_name": "StyleView",
            "description_width": ""
          }
        },
        "b46ff347922741b995006d005698b019": {
          "model_module": "@jupyter-widgets/base",
          "model_module_version": "1.2.0",
          "model_name": "LayoutModel",
          "state": {
            "_model_module": "@jupyter-widgets/base",
            "_model_module_version": "1.2.0",
            "_model_name": "LayoutModel",
            "_view_count": null,
            "_view_module": "@jupyter-widgets/base",
            "_view_module_version": "1.2.0",
            "_view_name": "LayoutView",
            "align_content": null,
            "align_items": null,
            "align_self": null,
            "border": null,
            "bottom": null,
            "display": null,
            "flex": null,
            "flex_flow": null,
            "grid_area": null,
            "grid_auto_columns": null,
            "grid_auto_flow": null,
            "grid_auto_rows": null,
            "grid_column": null,
            "grid_gap": null,
            "grid_row": null,
            "grid_template_areas": null,
            "grid_template_columns": null,
            "grid_template_rows": null,
            "height": null,
            "justify_content": null,
            "justify_items": null,
            "left": null,
            "margin": null,
            "max_height": null,
            "max_width": null,
            "min_height": null,
            "min_width": null,
            "object_fit": null,
            "object_position": null,
            "order": null,
            "overflow": null,
            "overflow_x": null,
            "overflow_y": null,
            "padding": null,
            "right": null,
            "top": null,
            "visibility": null,
            "width": null
          }
        },
        "b66b8f5bcfeb4382867b9c4c6404a8f7": {
          "model_module": "@jupyter-widgets/base",
          "model_module_version": "1.2.0",
          "model_name": "LayoutModel",
          "state": {
            "_model_module": "@jupyter-widgets/base",
            "_model_module_version": "1.2.0",
            "_model_name": "LayoutModel",
            "_view_count": null,
            "_view_module": "@jupyter-widgets/base",
            "_view_module_version": "1.2.0",
            "_view_name": "LayoutView",
            "align_content": null,
            "align_items": null,
            "align_self": null,
            "border": null,
            "bottom": null,
            "display": null,
            "flex": null,
            "flex_flow": null,
            "grid_area": null,
            "grid_auto_columns": null,
            "grid_auto_flow": null,
            "grid_auto_rows": null,
            "grid_column": null,
            "grid_gap": null,
            "grid_row": null,
            "grid_template_areas": null,
            "grid_template_columns": null,
            "grid_template_rows": null,
            "height": null,
            "justify_content": null,
            "justify_items": null,
            "left": null,
            "margin": null,
            "max_height": null,
            "max_width": null,
            "min_height": null,
            "min_width": null,
            "object_fit": null,
            "object_position": null,
            "order": null,
            "overflow": null,
            "overflow_x": null,
            "overflow_y": null,
            "padding": null,
            "right": null,
            "top": null,
            "visibility": null,
            "width": null
          }
        },
        "b7992a30c7744620a29b73f7617f07f2": {
          "model_module": "@jupyter-widgets/controls",
          "model_module_version": "1.5.0",
          "model_name": "HTMLModel",
          "state": {
            "_dom_classes": [],
            "_model_module": "@jupyter-widgets/controls",
            "_model_module_version": "1.5.0",
            "_model_name": "HTMLModel",
            "_view_count": null,
            "_view_module": "@jupyter-widgets/controls",
            "_view_module_version": "1.5.0",
            "_view_name": "HTMLView",
            "description": "",
            "description_tooltip": null,
            "layout": "IPY_MODEL_20ee8445e6324fde8aac3d3da0c78750",
            "placeholder": "​",
            "style": "IPY_MODEL_16057b29865d4d6c8160a053c2c8f979",
            "value": " 1/1 [00:01&lt;00:00,  1.79s/it]"
          }
        },
        "b9b10f8db7b44281ab82db7577fdf1db": {
          "model_module": "@jupyter-widgets/controls",
          "model_module_version": "1.5.0",
          "model_name": "HTMLModel",
          "state": {
            "_dom_classes": [],
            "_model_module": "@jupyter-widgets/controls",
            "_model_module_version": "1.5.0",
            "_model_name": "HTMLModel",
            "_view_count": null,
            "_view_module": "@jupyter-widgets/controls",
            "_view_module_version": "1.5.0",
            "_view_name": "HTMLView",
            "description": "",
            "description_tooltip": null,
            "layout": "IPY_MODEL_f0c68b808e864f72841ffd103b1cb0ae",
            "placeholder": "​",
            "style": "IPY_MODEL_1b392f4d71f044708bc7aac2cf7ef836",
            "value": "Generate report structure: 100%"
          }
        },
        "bda820eed4094d3fab83fde73502a252": {
          "model_module": "@jupyter-widgets/controls",
          "model_module_version": "1.5.0",
          "model_name": "ProgressStyleModel",
          "state": {
            "_model_module": "@jupyter-widgets/controls",
            "_model_module_version": "1.5.0",
            "_model_name": "ProgressStyleModel",
            "_view_count": null,
            "_view_module": "@jupyter-widgets/base",
            "_view_module_version": "1.2.0",
            "_view_name": "StyleView",
            "bar_color": null,
            "description_width": ""
          }
        },
        "bdedfe49e1724886b0d40ddd66df6f07": {
          "model_module": "@jupyter-widgets/controls",
          "model_module_version": "1.5.0",
          "model_name": "DescriptionStyleModel",
          "state": {
            "_model_module": "@jupyter-widgets/controls",
            "_model_module_version": "1.5.0",
            "_model_name": "DescriptionStyleModel",
            "_view_count": null,
            "_view_module": "@jupyter-widgets/base",
            "_view_module_version": "1.2.0",
            "_view_name": "StyleView",
            "description_width": ""
          }
        },
        "ca4747e89c084bc19d4d06f5488a358a": {
          "model_module": "@jupyter-widgets/base",
          "model_module_version": "1.2.0",
          "model_name": "LayoutModel",
          "state": {
            "_model_module": "@jupyter-widgets/base",
            "_model_module_version": "1.2.0",
            "_model_name": "LayoutModel",
            "_view_count": null,
            "_view_module": "@jupyter-widgets/base",
            "_view_module_version": "1.2.0",
            "_view_name": "LayoutView",
            "align_content": null,
            "align_items": null,
            "align_self": null,
            "border": null,
            "bottom": null,
            "display": null,
            "flex": null,
            "flex_flow": null,
            "grid_area": null,
            "grid_auto_columns": null,
            "grid_auto_flow": null,
            "grid_auto_rows": null,
            "grid_column": null,
            "grid_gap": null,
            "grid_row": null,
            "grid_template_areas": null,
            "grid_template_columns": null,
            "grid_template_rows": null,
            "height": null,
            "justify_content": null,
            "justify_items": null,
            "left": null,
            "margin": null,
            "max_height": null,
            "max_width": null,
            "min_height": null,
            "min_width": null,
            "object_fit": null,
            "object_position": null,
            "order": null,
            "overflow": null,
            "overflow_x": null,
            "overflow_y": null,
            "padding": null,
            "right": null,
            "top": null,
            "visibility": null,
            "width": null
          }
        },
        "ca9ad3c94e934cc382bb086237bb041c": {
          "model_module": "@jupyter-widgets/base",
          "model_module_version": "1.2.0",
          "model_name": "LayoutModel",
          "state": {
            "_model_module": "@jupyter-widgets/base",
            "_model_module_version": "1.2.0",
            "_model_name": "LayoutModel",
            "_view_count": null,
            "_view_module": "@jupyter-widgets/base",
            "_view_module_version": "1.2.0",
            "_view_name": "LayoutView",
            "align_content": null,
            "align_items": null,
            "align_self": null,
            "border": null,
            "bottom": null,
            "display": null,
            "flex": null,
            "flex_flow": null,
            "grid_area": null,
            "grid_auto_columns": null,
            "grid_auto_flow": null,
            "grid_auto_rows": null,
            "grid_column": null,
            "grid_gap": null,
            "grid_row": null,
            "grid_template_areas": null,
            "grid_template_columns": null,
            "grid_template_rows": null,
            "height": null,
            "justify_content": null,
            "justify_items": null,
            "left": null,
            "margin": null,
            "max_height": null,
            "max_width": null,
            "min_height": null,
            "min_width": null,
            "object_fit": null,
            "object_position": null,
            "order": null,
            "overflow": null,
            "overflow_x": null,
            "overflow_y": null,
            "padding": null,
            "right": null,
            "top": null,
            "visibility": null,
            "width": null
          }
        },
        "ca9e74fdf0024f02a8584bb9301f36ff": {
          "model_module": "@jupyter-widgets/controls",
          "model_module_version": "1.5.0",
          "model_name": "ProgressStyleModel",
          "state": {
            "_model_module": "@jupyter-widgets/controls",
            "_model_module_version": "1.5.0",
            "_model_name": "ProgressStyleModel",
            "_view_count": null,
            "_view_module": "@jupyter-widgets/base",
            "_view_module_version": "1.2.0",
            "_view_name": "StyleView",
            "bar_color": null,
            "description_width": ""
          }
        },
        "caacd86c8461478e86e4df4a96dc3ae8": {
          "model_module": "@jupyter-widgets/base",
          "model_module_version": "1.2.0",
          "model_name": "LayoutModel",
          "state": {
            "_model_module": "@jupyter-widgets/base",
            "_model_module_version": "1.2.0",
            "_model_name": "LayoutModel",
            "_view_count": null,
            "_view_module": "@jupyter-widgets/base",
            "_view_module_version": "1.2.0",
            "_view_name": "LayoutView",
            "align_content": null,
            "align_items": null,
            "align_self": null,
            "border": null,
            "bottom": null,
            "display": null,
            "flex": null,
            "flex_flow": null,
            "grid_area": null,
            "grid_auto_columns": null,
            "grid_auto_flow": null,
            "grid_auto_rows": null,
            "grid_column": null,
            "grid_gap": null,
            "grid_row": null,
            "grid_template_areas": null,
            "grid_template_columns": null,
            "grid_template_rows": null,
            "height": null,
            "justify_content": null,
            "justify_items": null,
            "left": null,
            "margin": null,
            "max_height": null,
            "max_width": null,
            "min_height": null,
            "min_width": null,
            "object_fit": null,
            "object_position": null,
            "order": null,
            "overflow": null,
            "overflow_x": null,
            "overflow_y": null,
            "padding": null,
            "right": null,
            "top": null,
            "visibility": null,
            "width": null
          }
        },
        "cc297384e74e424ea3cb2e83e5827337": {
          "model_module": "@jupyter-widgets/base",
          "model_module_version": "1.2.0",
          "model_name": "LayoutModel",
          "state": {
            "_model_module": "@jupyter-widgets/base",
            "_model_module_version": "1.2.0",
            "_model_name": "LayoutModel",
            "_view_count": null,
            "_view_module": "@jupyter-widgets/base",
            "_view_module_version": "1.2.0",
            "_view_name": "LayoutView",
            "align_content": null,
            "align_items": null,
            "align_self": null,
            "border": null,
            "bottom": null,
            "display": null,
            "flex": null,
            "flex_flow": null,
            "grid_area": null,
            "grid_auto_columns": null,
            "grid_auto_flow": null,
            "grid_auto_rows": null,
            "grid_column": null,
            "grid_gap": null,
            "grid_row": null,
            "grid_template_areas": null,
            "grid_template_columns": null,
            "grid_template_rows": null,
            "height": null,
            "justify_content": null,
            "justify_items": null,
            "left": null,
            "margin": null,
            "max_height": null,
            "max_width": null,
            "min_height": null,
            "min_width": null,
            "object_fit": null,
            "object_position": null,
            "order": null,
            "overflow": null,
            "overflow_x": null,
            "overflow_y": null,
            "padding": null,
            "right": null,
            "top": null,
            "visibility": null,
            "width": null
          }
        },
        "d20119fef5bd4dd9b9f9bff29304d2d7": {
          "model_module": "@jupyter-widgets/base",
          "model_module_version": "1.2.0",
          "model_name": "LayoutModel",
          "state": {
            "_model_module": "@jupyter-widgets/base",
            "_model_module_version": "1.2.0",
            "_model_name": "LayoutModel",
            "_view_count": null,
            "_view_module": "@jupyter-widgets/base",
            "_view_module_version": "1.2.0",
            "_view_name": "LayoutView",
            "align_content": null,
            "align_items": null,
            "align_self": null,
            "border": null,
            "bottom": null,
            "display": null,
            "flex": null,
            "flex_flow": null,
            "grid_area": null,
            "grid_auto_columns": null,
            "grid_auto_flow": null,
            "grid_auto_rows": null,
            "grid_column": null,
            "grid_gap": null,
            "grid_row": null,
            "grid_template_areas": null,
            "grid_template_columns": null,
            "grid_template_rows": null,
            "height": null,
            "justify_content": null,
            "justify_items": null,
            "left": null,
            "margin": null,
            "max_height": null,
            "max_width": null,
            "min_height": null,
            "min_width": null,
            "object_fit": null,
            "object_position": null,
            "order": null,
            "overflow": null,
            "overflow_x": null,
            "overflow_y": null,
            "padding": null,
            "right": null,
            "top": null,
            "visibility": null,
            "width": null
          }
        },
        "d57b0782cae240c9b5ea05a29e89b2c1": {
          "model_module": "@jupyter-widgets/controls",
          "model_module_version": "1.5.0",
          "model_name": "HTMLModel",
          "state": {
            "_dom_classes": [],
            "_model_module": "@jupyter-widgets/controls",
            "_model_module_version": "1.5.0",
            "_model_name": "HTMLModel",
            "_view_count": null,
            "_view_module": "@jupyter-widgets/controls",
            "_view_module_version": "1.5.0",
            "_view_name": "HTMLView",
            "description": "",
            "description_tooltip": null,
            "layout": "IPY_MODEL_6b93e87503d548ef9afff9c261969a7e",
            "placeholder": "​",
            "style": "IPY_MODEL_60d3742042e246babf98b252772d6f64",
            "value": " 1/1 [00:05&lt;00:00,  5.16s/it]"
          }
        },
        "d5d65d07b840470f986a60658d87031d": {
          "model_module": "@jupyter-widgets/base",
          "model_module_version": "1.2.0",
          "model_name": "LayoutModel",
          "state": {
            "_model_module": "@jupyter-widgets/base",
            "_model_module_version": "1.2.0",
            "_model_name": "LayoutModel",
            "_view_count": null,
            "_view_module": "@jupyter-widgets/base",
            "_view_module_version": "1.2.0",
            "_view_name": "LayoutView",
            "align_content": null,
            "align_items": null,
            "align_self": null,
            "border": null,
            "bottom": null,
            "display": null,
            "flex": null,
            "flex_flow": null,
            "grid_area": null,
            "grid_auto_columns": null,
            "grid_auto_flow": null,
            "grid_auto_rows": null,
            "grid_column": null,
            "grid_gap": null,
            "grid_row": null,
            "grid_template_areas": null,
            "grid_template_columns": null,
            "grid_template_rows": null,
            "height": null,
            "justify_content": null,
            "justify_items": null,
            "left": null,
            "margin": null,
            "max_height": null,
            "max_width": null,
            "min_height": null,
            "min_width": null,
            "object_fit": null,
            "object_position": null,
            "order": null,
            "overflow": null,
            "overflow_x": null,
            "overflow_y": null,
            "padding": null,
            "right": null,
            "top": null,
            "visibility": null,
            "width": null
          }
        },
        "d60879554fdd4fe8a18bb43cd699d530": {
          "model_module": "@jupyter-widgets/base",
          "model_module_version": "1.2.0",
          "model_name": "LayoutModel",
          "state": {
            "_model_module": "@jupyter-widgets/base",
            "_model_module_version": "1.2.0",
            "_model_name": "LayoutModel",
            "_view_count": null,
            "_view_module": "@jupyter-widgets/base",
            "_view_module_version": "1.2.0",
            "_view_name": "LayoutView",
            "align_content": null,
            "align_items": null,
            "align_self": null,
            "border": null,
            "bottom": null,
            "display": null,
            "flex": null,
            "flex_flow": null,
            "grid_area": null,
            "grid_auto_columns": null,
            "grid_auto_flow": null,
            "grid_auto_rows": null,
            "grid_column": null,
            "grid_gap": null,
            "grid_row": null,
            "grid_template_areas": null,
            "grid_template_columns": null,
            "grid_template_rows": null,
            "height": null,
            "justify_content": null,
            "justify_items": null,
            "left": null,
            "margin": null,
            "max_height": null,
            "max_width": null,
            "min_height": null,
            "min_width": null,
            "object_fit": null,
            "object_position": null,
            "order": null,
            "overflow": null,
            "overflow_x": null,
            "overflow_y": null,
            "padding": null,
            "right": null,
            "top": null,
            "visibility": null,
            "width": null
          }
        },
        "dc9e982069a84844b894c75f7e344376": {
          "model_module": "@jupyter-widgets/base",
          "model_module_version": "1.2.0",
          "model_name": "LayoutModel",
          "state": {
            "_model_module": "@jupyter-widgets/base",
            "_model_module_version": "1.2.0",
            "_model_name": "LayoutModel",
            "_view_count": null,
            "_view_module": "@jupyter-widgets/base",
            "_view_module_version": "1.2.0",
            "_view_name": "LayoutView",
            "align_content": null,
            "align_items": null,
            "align_self": null,
            "border": null,
            "bottom": null,
            "display": null,
            "flex": null,
            "flex_flow": null,
            "grid_area": null,
            "grid_auto_columns": null,
            "grid_auto_flow": null,
            "grid_auto_rows": null,
            "grid_column": null,
            "grid_gap": null,
            "grid_row": null,
            "grid_template_areas": null,
            "grid_template_columns": null,
            "grid_template_rows": null,
            "height": null,
            "justify_content": null,
            "justify_items": null,
            "left": null,
            "margin": null,
            "max_height": null,
            "max_width": null,
            "min_height": null,
            "min_width": null,
            "object_fit": null,
            "object_position": null,
            "order": null,
            "overflow": null,
            "overflow_x": null,
            "overflow_y": null,
            "padding": null,
            "right": null,
            "top": null,
            "visibility": null,
            "width": null
          }
        },
        "de787ad647a94e949ac19a669eed3bb1": {
          "model_module": "@jupyter-widgets/controls",
          "model_module_version": "1.5.0",
          "model_name": "DescriptionStyleModel",
          "state": {
            "_model_module": "@jupyter-widgets/controls",
            "_model_module_version": "1.5.0",
            "_model_name": "DescriptionStyleModel",
            "_view_count": null,
            "_view_module": "@jupyter-widgets/base",
            "_view_module_version": "1.2.0",
            "_view_name": "StyleView",
            "description_width": ""
          }
        },
        "ed5376d3d28c4c4f808c9d80054c3858": {
          "model_module": "@jupyter-widgets/controls",
          "model_module_version": "1.5.0",
          "model_name": "DescriptionStyleModel",
          "state": {
            "_model_module": "@jupyter-widgets/controls",
            "_model_module_version": "1.5.0",
            "_model_name": "DescriptionStyleModel",
            "_view_count": null,
            "_view_module": "@jupyter-widgets/base",
            "_view_module_version": "1.2.0",
            "_view_name": "StyleView",
            "description_width": ""
          }
        },
        "f0c68b808e864f72841ffd103b1cb0ae": {
          "model_module": "@jupyter-widgets/base",
          "model_module_version": "1.2.0",
          "model_name": "LayoutModel",
          "state": {
            "_model_module": "@jupyter-widgets/base",
            "_model_module_version": "1.2.0",
            "_model_name": "LayoutModel",
            "_view_count": null,
            "_view_module": "@jupyter-widgets/base",
            "_view_module_version": "1.2.0",
            "_view_name": "LayoutView",
            "align_content": null,
            "align_items": null,
            "align_self": null,
            "border": null,
            "bottom": null,
            "display": null,
            "flex": null,
            "flex_flow": null,
            "grid_area": null,
            "grid_auto_columns": null,
            "grid_auto_flow": null,
            "grid_auto_rows": null,
            "grid_column": null,
            "grid_gap": null,
            "grid_row": null,
            "grid_template_areas": null,
            "grid_template_columns": null,
            "grid_template_rows": null,
            "height": null,
            "justify_content": null,
            "justify_items": null,
            "left": null,
            "margin": null,
            "max_height": null,
            "max_width": null,
            "min_height": null,
            "min_width": null,
            "object_fit": null,
            "object_position": null,
            "order": null,
            "overflow": null,
            "overflow_x": null,
            "overflow_y": null,
            "padding": null,
            "right": null,
            "top": null,
            "visibility": null,
            "width": null
          }
        },
        "f799c739c3a74db48e38181feedfc3b3": {
          "model_module": "@jupyter-widgets/controls",
          "model_module_version": "1.5.0",
          "model_name": "FloatProgressModel",
          "state": {
            "_dom_classes": [],
            "_model_module": "@jupyter-widgets/controls",
            "_model_module_version": "1.5.0",
            "_model_name": "FloatProgressModel",
            "_view_count": null,
            "_view_module": "@jupyter-widgets/controls",
            "_view_module_version": "1.5.0",
            "_view_name": "ProgressView",
            "bar_style": "success",
            "description": "",
            "description_tooltip": null,
            "layout": "IPY_MODEL_104a858b4ea248388ee10aa153a60a0a",
            "max": 1,
            "min": 0,
            "orientation": "horizontal",
            "style": "IPY_MODEL_bda820eed4094d3fab83fde73502a252",
            "value": 1
          }
        },
        "fd34a5f97c704ba6bcaa5af4ed23971c": {
          "model_module": "@jupyter-widgets/controls",
          "model_module_version": "1.5.0",
          "model_name": "HTMLModel",
          "state": {
            "_dom_classes": [],
            "_model_module": "@jupyter-widgets/controls",
            "_model_module_version": "1.5.0",
            "_model_name": "HTMLModel",
            "_view_count": null,
            "_view_module": "@jupyter-widgets/controls",
            "_view_module_version": "1.5.0",
            "_view_name": "HTMLView",
            "description": "",
            "description_tooltip": null,
            "layout": "IPY_MODEL_d60879554fdd4fe8a18bb43cd699d530",
            "placeholder": "​",
            "style": "IPY_MODEL_47bc71333daa4a4f821651b3c13009cd",
            "value": " 1/1 [00:02&lt;00:00,  2.45s/it]"
          }
        }
      }
    }
  },
  "nbformat": 4,
  "nbformat_minor": 0
}
